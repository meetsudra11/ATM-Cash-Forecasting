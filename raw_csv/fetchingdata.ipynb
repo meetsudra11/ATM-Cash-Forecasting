{
 "cells": [
  {
   "cell_type": "markdown",
   "metadata": {},
   "source": [
    "# For 1 csv file data"
   ]
  },
  {
   "cell_type": "code",
   "execution_count": 3,
   "metadata": {},
   "outputs": [
    {
     "name": "stdout",
     "output_type": "stream",
     "text": [
      "      Date            Bank Name  Atm's on-site  Atm's off-site  \\\n",
      "0  Jan2025                  NaN            NaN             NaN   \n",
      "1  Jan2025       BANK OF BARODA         8504.0          2411.0   \n",
      "2  Jan2025        BANK OF INDIA         5341.0          2895.0   \n",
      "3  Jan2025  BANK OF MAHARASHTRA         2197.0           252.0   \n",
      "4  Jan2025          CANARA BANK         8174.0          3794.0   \n",
      "\n",
      "   Credit card cash withdraw  Debit card cash withdraw  \n",
      "0                        NaN                       NaN  \n",
      "1                    63510.0               120380330.0  \n",
      "2                    29163.0                63783084.0  \n",
      "3                     3709.0                29366539.0  \n",
      "4                   560312.0               150843429.0  \n"
     ]
    },
    {
     "name": "stderr",
     "output_type": "stream",
     "text": [
      "/var/folders/8h/xtp_v7md6bs9195xxzbbf5d80000gn/T/ipykernel_1585/49384109.py:29: FutureWarning: The behavior of DataFrame concatenation with empty or all-NA entries is deprecated. In a future version, this will no longer exclude empty or all-NA columns when determining the result dtypes. To retain the old behavior, exclude the relevant entries before the concat operation.\n",
      "  master_df = pd.concat([master_df, df], ignore_index=True)\n"
     ]
    }
   ],
   "source": [
    "import pandas as pd\n",
    "import os\n",
    "\n",
    "def process_rbi_csv(file_path, master_df):\n",
    "    \"\"\"\n",
    "    Reads an RBI CSV file, extracts relevant columns, and appends it to master_df.\n",
    "    \"\"\"\n",
    "    # Extract date from filename\n",
    "    file_name = os.path.basename(file_path)\n",
    "    date_part = os.path.splitext(file_name)[0]  # Extracts 'Jan2025' from 'Jan2025.csv'\n",
    "    \n",
    "    # Read the CSV file\n",
    "    df = pd.read_csv(file_path)\n",
    "    \n",
    "    # Rename columns for clarity\n",
    "    df = df.rename(columns={\n",
    "        df.columns[1]: \"Bank Name\",\n",
    "        df.columns[2]: \"Atm's on-site\",\n",
    "        df.columns[3]: \"Atm's off-site\",\n",
    "        df.columns[4]: \"Credit card cash withdraw\",\n",
    "        df.columns[5]: \"Debit card cash withdraw\"\n",
    "    })\n",
    "    \n",
    "    # Drop unnecessary columns\n",
    "    df = df[[\"Bank Name\", \"Atm's on-site\", \"Atm's off-site\", \"Credit card cash withdraw\", \"Debit card cash withdraw\"]]\n",
    "    \n",
    "    # Append processed rows to master DataFrame\n",
    "    df.insert(0, \"Date\", date_part)\n",
    "    master_df = pd.concat([master_df, df], ignore_index=True)\n",
    "    \n",
    "    return master_df\n",
    "\n",
    "# Initialize an empty master DataFrame\n",
    "master_df = pd.DataFrame(columns=[\"Date\", \"Bank Name\", \"Atm's on-site\", \"Atm's off-site\", \"Credit card cash withdraw\", \"Debit card cash withdraw\"])\n",
    "\n",
    "master_df = process_rbi_csv(\"/Users/meetsudra/Desktop/Jan2025.csv\", master_df)\n",
    "print(master_df.head())\n"
   ]
  },
  {
   "cell_type": "code",
   "execution_count": 4,
   "metadata": {},
   "outputs": [],
   "source": [
    "master_df.to_csv(\"master_df.csv\", index=False)\n"
   ]
  },
  {
   "cell_type": "code",
   "execution_count": null,
   "metadata": {},
   "outputs": [],
   "source": []
  },
  {
   "cell_type": "code",
   "execution_count": null,
   "metadata": {},
   "outputs": [],
   "source": []
  },
  {
   "cell_type": "markdown",
   "metadata": {},
   "source": [
    "# Appended 2 csv files data"
   ]
  },
  {
   "cell_type": "code",
   "execution_count": 1,
   "metadata": {},
   "outputs": [
    {
     "name": "stdout",
     "output_type": "stream",
     "text": [
      "      Date            Bank Name  Atm's on-site  Atm's off-site  \\\n",
      "0  Jan2025                  NaN            NaN             NaN   \n",
      "1  Jan2025       BANK OF BARODA         8504.0          2411.0   \n",
      "2  Jan2025        BANK OF INDIA         5341.0          2895.0   \n",
      "3  Jan2025  BANK OF MAHARASHTRA         2197.0           252.0   \n",
      "4  Jan2025          CANARA BANK         8174.0          3794.0   \n",
      "\n",
      "   Credit card cash withdraw  Debit card cash withdraw  \n",
      "0                        NaN                       NaN  \n",
      "1                    63510.0               120380330.0  \n",
      "2                    29163.0                63783084.0  \n",
      "3                     3709.0                29366539.0  \n",
      "4                   560312.0               150843429.0  \n"
     ]
    },
    {
     "name": "stderr",
     "output_type": "stream",
     "text": [
      "/var/folders/8h/xtp_v7md6bs9195xxzbbf5d80000gn/T/ipykernel_1894/1102240811.py:29: FutureWarning: The behavior of DataFrame concatenation with empty or all-NA entries is deprecated. In a future version, this will no longer exclude empty or all-NA columns when determining the result dtypes. To retain the old behavior, exclude the relevant entries before the concat operation.\n",
      "  master_df = pd.concat([master_df, df], ignore_index=True)\n"
     ]
    }
   ],
   "source": [
    "import pandas as pd\n",
    "import os\n",
    "\n",
    "def process_rbi_csv(file_path, master_df):\n",
    "    \"\"\"\n",
    "    Reads an RBI CSV file, extracts relevant columns, and appends it to master_df.\n",
    "    \"\"\"\n",
    "    # Extract date from filename\n",
    "    file_name = os.path.basename(file_path)\n",
    "    date_part = os.path.splitext(file_name)[0]  # Extracts 'Jan2025' from 'Jan2025.csv'\n",
    "    \n",
    "    # Read the CSV file\n",
    "    df = pd.read_csv(file_path)\n",
    "    \n",
    "    # Rename columns for clarity\n",
    "    df = df.rename(columns={\n",
    "        df.columns[1]: \"Bank Name\",\n",
    "        df.columns[2]: \"Atm's on-site\",\n",
    "        df.columns[3]: \"Atm's off-site\",\n",
    "        df.columns[4]: \"Credit card cash withdraw\",\n",
    "        df.columns[5]: \"Debit card cash withdraw\"\n",
    "    })\n",
    "    \n",
    "    # Drop unnecessary columns\n",
    "    df = df[[\"Bank Name\", \"Atm's on-site\", \"Atm's off-site\", \"Credit card cash withdraw\", \"Debit card cash withdraw\"]]\n",
    "    \n",
    "    # Append processed rows to master DataFrame\n",
    "    df.insert(0, \"Date\", date_part)\n",
    "    master_df = pd.concat([master_df, df], ignore_index=True)\n",
    "    \n",
    "    return master_df\n",
    "\n",
    "# Initialize an empty master DataFrame\n",
    "master_df = pd.DataFrame(columns=[\"Date\", \"Bank Name\", \"Atm's on-site\", \"Atm's off-site\", \"Credit card cash withdraw\", \"Debit card cash withdraw\"])\n",
    "\n",
    "# List of file paths (replace these with actual file paths)\n",
    "file_paths = [\"/Users/meetsudra/Desktop/Jan2025.csv\", \"/Users/meetsudra/Desktop/Dec2024.csv\"]\n",
    "\n",
    "# Process each file and append data\n",
    "for file_path in file_paths:\n",
    "    master_df = process_rbi_csv(file_path, master_df)\n",
    "\n",
    "# Print result\n",
    "print(master_df.head())\n"
   ]
  },
  {
   "cell_type": "code",
   "execution_count": 2,
   "metadata": {},
   "outputs": [],
   "source": [
    "master_df.to_csv(\"master_df.csv\", index=False)"
   ]
  },
  {
   "cell_type": "code",
   "execution_count": null,
   "metadata": {},
   "outputs": [],
   "source": []
  },
  {
   "cell_type": "code",
   "execution_count": null,
   "metadata": {},
   "outputs": [],
   "source": []
  },
  {
   "cell_type": "code",
   "execution_count": null,
   "metadata": {},
   "outputs": [],
   "source": []
  },
  {
   "cell_type": "markdown",
   "metadata": {},
   "source": [
    "# For 5 csv files "
   ]
  },
  {
   "cell_type": "code",
   "execution_count": 1,
   "metadata": {},
   "outputs": [
    {
     "name": "stdout",
     "output_type": "stream",
     "text": [
      "      Date            Bank Name  Atm's on-site  Atm's off-site  \\\n",
      "0  Jan2025                  NaN            NaN             NaN   \n",
      "1  Jan2025       BANK OF BARODA         8504.0          2411.0   \n",
      "2  Jan2025        BANK OF INDIA         5341.0          2895.0   \n",
      "3  Jan2025  BANK OF MAHARASHTRA         2197.0           252.0   \n",
      "4  Jan2025          CANARA BANK         8174.0          3794.0   \n",
      "\n",
      "   Credit card cash withdraw  Debit card cash withdraw  \n",
      "0                        NaN                       NaN  \n",
      "1                    63510.0               120380330.0  \n",
      "2                    29163.0                63783084.0  \n",
      "3                     3709.0                29366539.0  \n",
      "4                   560312.0               150843429.0  \n"
     ]
    },
    {
     "name": "stderr",
     "output_type": "stream",
     "text": [
      "/var/folders/8h/xtp_v7md6bs9195xxzbbf5d80000gn/T/ipykernel_2026/326636288.py:29: FutureWarning: The behavior of DataFrame concatenation with empty or all-NA entries is deprecated. In a future version, this will no longer exclude empty or all-NA columns when determining the result dtypes. To retain the old behavior, exclude the relevant entries before the concat operation.\n",
      "  master_df = pd.concat([master_df, df], ignore_index=True)\n"
     ]
    }
   ],
   "source": [
    "import pandas as pd\n",
    "import os\n",
    "\n",
    "def process_rbi_csv(file_path, master_df):\n",
    "    \"\"\"\n",
    "    Reads an RBI CSV file, extracts relevant columns, and appends it to master_df.\n",
    "    \"\"\"\n",
    "    # Extract date from filename\n",
    "    file_name = os.path.basename(file_path)\n",
    "    date_part = os.path.splitext(file_name)[0]  # Extracts 'Jan2025' from 'Jan2025.csv'\n",
    "    \n",
    "    # Read the CSV file\n",
    "    df = pd.read_csv(file_path)\n",
    "    \n",
    "    # Rename columns for clarity\n",
    "    df = df.rename(columns={\n",
    "        df.columns[1]: \"Bank Name\",\n",
    "        df.columns[2]: \"Atm's on-site\",\n",
    "        df.columns[3]: \"Atm's off-site\",\n",
    "        df.columns[4]: \"Credit card cash withdraw\",\n",
    "        df.columns[5]: \"Debit card cash withdraw\"\n",
    "    })\n",
    "    \n",
    "    # Drop unnecessary columns\n",
    "    df = df[[\"Bank Name\", \"Atm's on-site\", \"Atm's off-site\", \"Credit card cash withdraw\", \"Debit card cash withdraw\"]]\n",
    "    \n",
    "    # Append processed rows to master DataFrame\n",
    "    df.insert(0, \"Date\", date_part)\n",
    "    master_df = pd.concat([master_df, df], ignore_index=True)\n",
    "    \n",
    "    return master_df\n",
    "\n",
    "# Initialize an empty master DataFrame\n",
    "master_df = pd.DataFrame(columns=[\"Date\", \"Bank Name\", \"Atm's on-site\", \"Atm's off-site\", \"Credit card cash withdraw\", \"Debit card cash withdraw\"])\n",
    "\n",
    "# List of file paths (replace these with actual file paths)\n",
    "file_paths = [\n",
    "    \"/Users/meetsudra/Desktop/Jan2025.csv\",\n",
    "    \"/Users/meetsudra/Desktop/Dec2024.csv\",\n",
    "    \"/Users/meetsudra/Desktop/Nov2024.csv\",\n",
    "    \"/Users/meetsudra/Desktop/Oct2024.csv\",\n",
    "    \"/Users/meetsudra/Desktop/Sep2024.csv\"\n",
    "]\n",
    "\n",
    "# Process each file and append data\n",
    "for file_path in file_paths:\n",
    "    master_df = process_rbi_csv(file_path, master_df)\n",
    "\n",
    "# Print result\n",
    "print(master_df.head())\n"
   ]
  },
  {
   "cell_type": "code",
   "execution_count": 2,
   "metadata": {},
   "outputs": [],
   "source": [
    "master_df.to_csv(\"master_df.csv\", index=False)"
   ]
  },
  {
   "cell_type": "code",
   "execution_count": null,
   "metadata": {},
   "outputs": [],
   "source": []
  },
  {
   "cell_type": "code",
   "execution_count": null,
   "metadata": {},
   "outputs": [],
   "source": []
  },
  {
   "cell_type": "code",
   "execution_count": null,
   "metadata": {},
   "outputs": [],
   "source": []
  },
  {
   "cell_type": "markdown",
   "metadata": {},
   "source": [
    "# For 13 files "
   ]
  },
  {
   "cell_type": "code",
   "execution_count": 1,
   "metadata": {},
   "outputs": [
    {
     "name": "stdout",
     "output_type": "stream",
     "text": [
      "      Date            Bank Name  Atm's on-site  Atm's off-site  \\\n",
      "0  Jan2025                  NaN            NaN             NaN   \n",
      "1  Jan2025       BANK OF BARODA         8504.0          2411.0   \n",
      "2  Jan2025        BANK OF INDIA         5341.0          2895.0   \n",
      "3  Jan2025  BANK OF MAHARASHTRA         2197.0           252.0   \n",
      "4  Jan2025          CANARA BANK         8174.0          3794.0   \n",
      "\n",
      "   Credit card cash withdraw  Debit card cash withdraw  \n",
      "0                        NaN                       NaN  \n",
      "1                    63510.0               120380330.0  \n",
      "2                    29163.0                63783084.0  \n",
      "3                     3709.0                29366539.0  \n",
      "4                   560312.0               150843429.0  \n"
     ]
    },
    {
     "name": "stderr",
     "output_type": "stream",
     "text": [
      "/var/folders/8h/xtp_v7md6bs9195xxzbbf5d80000gn/T/ipykernel_2239/3251623129.py:29: FutureWarning: The behavior of DataFrame concatenation with empty or all-NA entries is deprecated. In a future version, this will no longer exclude empty or all-NA columns when determining the result dtypes. To retain the old behavior, exclude the relevant entries before the concat operation.\n",
      "  master_df = pd.concat([master_df, df], ignore_index=True)\n"
     ]
    }
   ],
   "source": [
    "import pandas as pd\n",
    "import os\n",
    "\n",
    "def process_rbi_csv(file_path, master_df):\n",
    "    \"\"\"\n",
    "    Reads an RBI CSV file, extracts relevant columns, and appends it to master_df.\n",
    "    \"\"\"\n",
    "    # Extract date from filename\n",
    "    file_name = os.path.basename(file_path)\n",
    "    date_part = os.path.splitext(file_name)[0]  # Extracts 'Jan2025' from 'Jan2025.csv'\n",
    "    \n",
    "    # Read the CSV file\n",
    "    df = pd.read_csv(file_path)\n",
    "    \n",
    "    # Rename columns for clarity\n",
    "    df = df.rename(columns={\n",
    "        df.columns[1]: \"Bank Name\",\n",
    "        df.columns[2]: \"Atm's on-site\",\n",
    "        df.columns[3]: \"Atm's off-site\",\n",
    "        df.columns[4]: \"Credit card cash withdraw\",\n",
    "        df.columns[5]: \"Debit card cash withdraw\"\n",
    "    })\n",
    "    \n",
    "    # Drop unnecessary columns\n",
    "    df = df[[\"Bank Name\", \"Atm's on-site\", \"Atm's off-site\", \"Credit card cash withdraw\", \"Debit card cash withdraw\"]]\n",
    "    \n",
    "    # Append processed rows to master DataFrame\n",
    "    df.insert(0, \"Date\", date_part)\n",
    "    master_df = pd.concat([master_df, df], ignore_index=True)\n",
    "    \n",
    "    return master_df\n",
    "\n",
    "# Initialize an empty master DataFrame\n",
    "master_df = pd.DataFrame(columns=[\"Date\", \"Bank Name\", \"Atm's on-site\", \"Atm's off-site\", \"Credit card cash withdraw\", \"Debit card cash withdraw\"])\n",
    "\n",
    "# List of 13 file paths (Replace these with actual paths)\n",
    "file_paths = [\n",
    "    \"/Users/meetsudra/Desktop/Jan2025.csv\",\n",
    "    \"/Users/meetsudra/Desktop/Dec2024.csv\",\n",
    "    \"/Users/meetsudra/Desktop/Nov2024.csv\",\n",
    "    \"/Users/meetsudra/Desktop/Oct2024.csv\",\n",
    "    \"/Users/meetsudra/Desktop/Sep2024.csv\",\n",
    "    \"/Users/meetsudra/Desktop/Aug2024.csv\",\n",
    "    \"/Users/meetsudra/Desktop/Jul2024.csv\",\n",
    "    \"/Users/meetsudra/Desktop/Jun2024.csv\",\n",
    "    \"/Users/meetsudra/Desktop/May2024.csv\",\n",
    "    \"/Users/meetsudra/Desktop/Apr2024.csv\",\n",
    "    \"/Users/meetsudra/Desktop/Mar2024.csv\",\n",
    "    \"/Users/meetsudra/Desktop/Feb2024.csv\",\n",
    "    \"/Users/meetsudra/Desktop/Jan2024.csv\"\n",
    "]\n",
    "\n",
    "# Process each file and append data\n",
    "for file_path in file_paths:\n",
    "    master_df = process_rbi_csv(file_path, master_df)\n",
    "\n",
    "# Print result\n",
    "print(master_df.head())\n"
   ]
  },
  {
   "cell_type": "code",
   "execution_count": 2,
   "metadata": {},
   "outputs": [],
   "source": [
    "master_df.to_csv(\"master_df.csv\", index=False)"
   ]
  },
  {
   "cell_type": "code",
   "execution_count": null,
   "metadata": {},
   "outputs": [],
   "source": []
  },
  {
   "cell_type": "code",
   "execution_count": null,
   "metadata": {},
   "outputs": [],
   "source": []
  },
  {
   "cell_type": "code",
   "execution_count": null,
   "metadata": {},
   "outputs": [],
   "source": []
  },
  {
   "cell_type": "markdown",
   "metadata": {},
   "source": [
    "# For 2025, 2024, 2023"
   ]
  },
  {
   "cell_type": "code",
   "execution_count": 4,
   "metadata": {},
   "outputs": [
    {
     "name": "stdout",
     "output_type": "stream",
     "text": [
      "      Date            Bank Name  Atm's on-site  Atm's off-site  \\\n",
      "0  Jan2025                  NaN            NaN             NaN   \n",
      "1  Jan2025       BANK OF BARODA         8504.0          2411.0   \n",
      "2  Jan2025        BANK OF INDIA         5341.0          2895.0   \n",
      "3  Jan2025  BANK OF MAHARASHTRA         2197.0           252.0   \n",
      "4  Jan2025          CANARA BANK         8174.0          3794.0   \n",
      "\n",
      "   Credit card cash withdraw  Debit card cash withdraw  \n",
      "0                        NaN                       NaN  \n",
      "1                    63510.0               120380330.0  \n",
      "2                    29163.0                63783084.0  \n",
      "3                     3709.0                29366539.0  \n",
      "4                   560312.0               150843429.0  \n"
     ]
    },
    {
     "name": "stderr",
     "output_type": "stream",
     "text": [
      "/var/folders/8h/xtp_v7md6bs9195xxzbbf5d80000gn/T/ipykernel_2239/2156941664.py:29: FutureWarning: The behavior of DataFrame concatenation with empty or all-NA entries is deprecated. In a future version, this will no longer exclude empty or all-NA columns when determining the result dtypes. To retain the old behavior, exclude the relevant entries before the concat operation.\n",
      "  master_df = pd.concat([master_df, df], ignore_index=True)\n"
     ]
    }
   ],
   "source": [
    "import pandas as pd\n",
    "import os\n",
    "\n",
    "def process_rbi_csv(file_path, master_df):\n",
    "    \"\"\"\n",
    "    Reads an RBI CSV file, extracts relevant columns, and appends it to master_df.\n",
    "    \"\"\"\n",
    "    # Extract date from filename\n",
    "    file_name = os.path.basename(file_path)\n",
    "    date_part = os.path.splitext(file_name)[0]  # Extracts 'Jan2025' from 'Jan2025.csv'\n",
    "    \n",
    "    # Read the CSV file\n",
    "    df = pd.read_csv(file_path)\n",
    "    \n",
    "    # Rename columns for clarity\n",
    "    df = df.rename(columns={\n",
    "        df.columns[1]: \"Bank Name\",\n",
    "        df.columns[2]: \"Atm's on-site\",\n",
    "        df.columns[3]: \"Atm's off-site\",\n",
    "        df.columns[4]: \"Credit card cash withdraw\",\n",
    "        df.columns[5]: \"Debit card cash withdraw\"\n",
    "    })\n",
    "    \n",
    "    # Drop unnecessary columns\n",
    "    df = df[[\"Bank Name\", \"Atm's on-site\", \"Atm's off-site\", \"Credit card cash withdraw\", \"Debit card cash withdraw\"]]\n",
    "    \n",
    "    # Append processed rows to master DataFrame\n",
    "    df.insert(0, \"Date\", date_part)\n",
    "    master_df = pd.concat([master_df, df], ignore_index=True)\n",
    "    \n",
    "    return master_df\n",
    "\n",
    "# Initialize an empty master DataFrame\n",
    "master_df = pd.DataFrame(columns=[\"Date\", \"Bank Name\", \"Atm's on-site\", \"Atm's off-site\", \"Credit card cash withdraw\", \"Debit card cash withdraw\"])\n",
    "\n",
    "# File paths for 2025, 2024 & now all months of 2023\n",
    "file_paths = [\n",
    "    \"/Users/meetsudra/Desktop/Jan2025.csv\",\n",
    "    \"/Users/meetsudra/Desktop/Dec2024.csv\",\n",
    "    \"/Users/meetsudra/Desktop/Nov2024.csv\",\n",
    "    \"/Users/meetsudra/Desktop/Oct2024.csv\",\n",
    "    \"/Users/meetsudra/Desktop/Sep2024.csv\",\n",
    "    \"/Users/meetsudra/Desktop/Aug2024.csv\",\n",
    "    \"/Users/meetsudra/Desktop/Jul2024.csv\",\n",
    "    \"/Users/meetsudra/Desktop/Jun2024.csv\",\n",
    "    \"/Users/meetsudra/Desktop/May2024.csv\",\n",
    "    \"/Users/meetsudra/Desktop/Apr2024.csv\",\n",
    "    \"/Users/meetsudra/Desktop/Mar2024.csv\",\n",
    "    \"/Users/meetsudra/Desktop/Feb2024.csv\",\n",
    "    \"/Users/meetsudra/Desktop/Jan2024.csv\"\n",
    "]\n",
    "\n",
    "# Append all months of 2023 in descending order (Dec to Jan)\n",
    "for month in [\n",
    "    \"Dec\", \"Nov\", \"Oct\", \"Sep\", \"Aug\", \"Jul\", \"Jun\", \n",
    "    \"May\", \"Apr\", \"Mar\", \"Feb\", \"Jan\"\n",
    "]:\n",
    "    file_paths.append(f\"/Users/meetsudra/Desktop/{month}2023.csv\")\n",
    "\n",
    "# Process each file and append data\n",
    "for file_path in file_paths:\n",
    "    master_df = process_rbi_csv(file_path, master_df)\n",
    "\n",
    "# Print result\n",
    "print(master_df.head())\n"
   ]
  },
  {
   "cell_type": "code",
   "execution_count": 5,
   "metadata": {},
   "outputs": [],
   "source": [
    "master_df.to_csv(\"master_df.csv\", index=False)"
   ]
  },
  {
   "cell_type": "code",
   "execution_count": null,
   "metadata": {},
   "outputs": [],
   "source": []
  },
  {
   "cell_type": "code",
   "execution_count": null,
   "metadata": {},
   "outputs": [],
   "source": []
  },
  {
   "cell_type": "code",
   "execution_count": null,
   "metadata": {},
   "outputs": [],
   "source": []
  },
  {
   "cell_type": "markdown",
   "metadata": {},
   "source": [
    "# Appending 2022, 2023, 2024, 2025"
   ]
  },
  {
   "cell_type": "code",
   "execution_count": 4,
   "metadata": {},
   "outputs": [
    {
     "name": "stdout",
     "output_type": "stream",
     "text": [
      "      Date            Bank Name  Atm's on-site  Atm's off-site  \\\n",
      "0  Jan2025                  NaN            NaN             NaN   \n",
      "1  Jan2025       BANK OF BARODA         8504.0          2411.0   \n",
      "2  Jan2025        BANK OF INDIA         5341.0          2895.0   \n",
      "3  Jan2025  BANK OF MAHARASHTRA         2197.0           252.0   \n",
      "4  Jan2025          CANARA BANK         8174.0          3794.0   \n",
      "\n",
      "   Credit card cash withdraw  Debit card cash withdraw  \n",
      "0                        NaN                       NaN  \n",
      "1                    63510.0               120380330.0  \n",
      "2                    29163.0                63783084.0  \n",
      "3                     3709.0                29366539.0  \n",
      "4                   560312.0               150843429.0  \n"
     ]
    },
    {
     "name": "stderr",
     "output_type": "stream",
     "text": [
      "/var/folders/8h/xtp_v7md6bs9195xxzbbf5d80000gn/T/ipykernel_2667/2761465378.py:29: FutureWarning: The behavior of DataFrame concatenation with empty or all-NA entries is deprecated. In a future version, this will no longer exclude empty or all-NA columns when determining the result dtypes. To retain the old behavior, exclude the relevant entries before the concat operation.\n",
      "  master_df = pd.concat([master_df, df], ignore_index=True)\n"
     ]
    }
   ],
   "source": [
    "import pandas as pd\n",
    "import os\n",
    "\n",
    "def process_rbi_csv(file_path, master_df):\n",
    "    \"\"\"\n",
    "    Reads an RBI CSV file, extracts relevant columns, and appends it to master_df.\n",
    "    \"\"\"\n",
    "    # Extract date from filename\n",
    "    file_name = os.path.basename(file_path)\n",
    "    date_part = os.path.splitext(file_name)[0]  # Extracts 'Jan2025' from 'Jan2025.csv'\n",
    "    \n",
    "    # Read the CSV file\n",
    "    df = pd.read_csv(file_path)\n",
    "    \n",
    "    # Rename columns for clarity\n",
    "    df = df.rename(columns={\n",
    "        df.columns[1]: \"Bank Name\",\n",
    "        df.columns[2]: \"Atm's on-site\",\n",
    "        df.columns[3]: \"Atm's off-site\",\n",
    "        df.columns[4]: \"Credit card cash withdraw\",\n",
    "        df.columns[5]: \"Debit card cash withdraw\"\n",
    "    })\n",
    "    \n",
    "    # Drop unnecessary columns\n",
    "    df = df[[\"Bank Name\", \"Atm's on-site\", \"Atm's off-site\", \"Credit card cash withdraw\", \"Debit card cash withdraw\"]]\n",
    "    \n",
    "    # Append processed rows to master DataFrame\n",
    "    df.insert(0, \"Date\", date_part)\n",
    "    master_df = pd.concat([master_df, df], ignore_index=True)\n",
    "    \n",
    "    return master_df\n",
    "\n",
    "# Initialize an empty master DataFrame\n",
    "master_df = pd.DataFrame(columns=[\"Date\", \"Bank Name\", \"Atm's on-site\", \"Atm's off-site\", \"Credit card cash withdraw\", \"Debit card cash withdraw\"])\n",
    "\n",
    "# File paths for 2025, 2024, and 2023\n",
    "file_paths = [\n",
    "    \"/Users/meetsudra/Desktop/Jan2025.csv\",\n",
    "    \"/Users/meetsudra/Desktop/Dec2024.csv\",\n",
    "    \"/Users/meetsudra/Desktop/Nov2024.csv\",\n",
    "    \"/Users/meetsudra/Desktop/Oct2024.csv\",\n",
    "    \"/Users/meetsudra/Desktop/Sep2024.csv\",\n",
    "    \"/Users/meetsudra/Desktop/Aug2024.csv\",\n",
    "    \"/Users/meetsudra/Desktop/Jul2024.csv\",\n",
    "    \"/Users/meetsudra/Desktop/Jun2024.csv\",\n",
    "    \"/Users/meetsudra/Desktop/May2024.csv\",\n",
    "    \"/Users/meetsudra/Desktop/Apr2024.csv\",\n",
    "    \"/Users/meetsudra/Desktop/Mar2024.csv\",\n",
    "    \"/Users/meetsudra/Desktop/Feb2024.csv\",\n",
    "    \"/Users/meetsudra/Desktop/Jan2024.csv\"\n",
    "]\n",
    "\n",
    "# Append all months of 2023\n",
    "for month in [\n",
    "    \"Dec\", \"Nov\", \"Oct\", \"Sep\", \"Aug\", \"Jul\", \"Jun\", \n",
    "    \"May\", \"Apr\", \"Mar\", \"Feb\", \"Jan\"\n",
    "]:\n",
    "    file_paths.append(f\"/Users/meetsudra/Desktop/{month}2023.csv\")\n",
    "\n",
    "# Append all months of 2022\n",
    "for month in [\n",
    "    \"Dec\", \"Nov\", \"Oct\", \"Sep\", \"Aug\", \"Jul\", \"Jun\", \n",
    "    \"May\", \"Apr\", \"Mar\"\n",
    "]:\n",
    "    file_paths.append(f\"/Users/meetsudra/Desktop/{month}2022.csv\")\n",
    "\n",
    "# Process each file and append data\n",
    "for file_path in file_paths:\n",
    "    master_df = process_rbi_csv(file_path, master_df)\n",
    "\n",
    "# Print result\n",
    "print(master_df.head())\n"
   ]
  },
  {
   "cell_type": "code",
   "execution_count": 5,
   "metadata": {},
   "outputs": [],
   "source": [
    "master_df.to_csv(\"master_df.csv\", index=False)"
   ]
  },
  {
   "cell_type": "code",
   "execution_count": null,
   "metadata": {},
   "outputs": [],
   "source": []
  },
  {
   "cell_type": "code",
   "execution_count": null,
   "metadata": {},
   "outputs": [],
   "source": []
  },
  {
   "cell_type": "code",
   "execution_count": null,
   "metadata": {},
   "outputs": [],
   "source": []
  },
  {
   "cell_type": "markdown",
   "metadata": {},
   "source": [
    "# Format for files Jan2022 to back 2015 has changed "
   ]
  },
  {
   "cell_type": "code",
   "execution_count": 4,
   "metadata": {},
   "outputs": [
    {
     "name": "stdout",
     "output_type": "stream",
     "text": [
      "      Date                   Bank Name  Atm's on-site  Atm's off-site  \\\n",
      "0  Feb2022  Scheduled Commercial Banks            NaN             NaN   \n",
      "1  Feb2022         Public Sector Banks            NaN             NaN   \n",
      "2  Feb2022              BANK OF BARODA         8752.0          2750.0   \n",
      "3  Feb2022               BANK OF INDIA         2384.0          2615.0   \n",
      "4  Feb2022         BANK OF MAHARASHTRA         1670.0           434.0   \n",
      "\n",
      "   Credit card cash withdraw  Debit card cash withdraw  \n",
      "0                        NaN                       NaN  \n",
      "1                        NaN                       NaN  \n",
      "2                      814.0                 1260645.0  \n",
      "3                      507.0                  661442.0  \n",
      "4                       51.0                  287248.0  \n"
     ]
    },
    {
     "name": "stderr",
     "output_type": "stream",
     "text": [
      "/var/folders/8h/xtp_v7md6bs9195xxzbbf5d80000gn/T/ipykernel_3092/3176446334.py:36: FutureWarning: The behavior of DataFrame concatenation with empty or all-NA entries is deprecated. In a future version, this will no longer exclude empty or all-NA columns when determining the result dtypes. To retain the old behavior, exclude the relevant entries before the concat operation.\n",
      "  master2_df = pd.concat([master2_df, temp_df], ignore_index=True)\n"
     ]
    }
   ],
   "source": [
    "import pandas as pd\n",
    "import os\n",
    "\n",
    "# List of file paths\n",
    "file_paths = [\n",
    "    \"/Users/meetsudra/Desktop/Feb2022.csv\",\n",
    "    \"/Users/meetsudra/Desktop/Jan2022.csv\"\n",
    "]\n",
    "\n",
    "# Initialize an empty DataFrame\n",
    "master2_df = pd.DataFrame(columns=[\n",
    "    \"Date\", \"Bank Name\", \"Atm's on-site\", \"Atm's off-site\", \n",
    "    \"Credit card cash withdraw\", \"Debit card cash withdraw\"\n",
    "])\n",
    "\n",
    "# Process each file\n",
    "for file_path in file_paths:\n",
    "    # Extract the date from the file name\n",
    "    file_name = os.path.basename(file_path)\n",
    "    date_str = file_name.replace(\".csv\", \"\")  # Extract \"Feb2022\", \"Jan2022\"\n",
    "\n",
    "    # Read the CSV file (no index column assumed)\n",
    "    df = pd.read_csv(file_path)\n",
    "\n",
    "    # Selecting required columns and renaming them\n",
    "    temp_df = df[[\"Bank Name\", \"1\", \"2\", \"10\", \"15\"]].copy()\n",
    "    temp_df.columns = [\n",
    "        \"Bank Name\", \"Atm's on-site\", \"Atm's off-site\", \n",
    "        \"Credit card cash withdraw\", \"Debit card cash withdraw\"\n",
    "    ]\n",
    "\n",
    "    # Add the \"Date\" column\n",
    "    temp_df.insert(0, \"Date\", date_str)\n",
    "\n",
    "    # Append to the master DataFrame\n",
    "    master2_df = pd.concat([master2_df, temp_df], ignore_index=True)\n",
    "\n",
    "# Display the processed DataFrame\n",
    "print(master2_df.head())"
   ]
  },
  {
   "cell_type": "code",
   "execution_count": 5,
   "metadata": {},
   "outputs": [],
   "source": [
    "master2_df.to_csv(\"master2_df.csv\", index=False)"
   ]
  },
  {
   "cell_type": "code",
   "execution_count": null,
   "metadata": {},
   "outputs": [],
   "source": []
  },
  {
   "cell_type": "code",
   "execution_count": null,
   "metadata": {},
   "outputs": [],
   "source": []
  },
  {
   "cell_type": "code",
   "execution_count": null,
   "metadata": {},
   "outputs": [],
   "source": []
  },
  {
   "cell_type": "markdown",
   "metadata": {},
   "source": [
    "# For 2021 and Feb 2022,Jan2022"
   ]
  },
  {
   "cell_type": "code",
   "execution_count": null,
   "metadata": {},
   "outputs": [
    {
     "name": "stdout",
     "output_type": "stream",
     "text": [
      "      Date                   Bank Name  Atm's on-site  Atm's off-site  \\\n",
      "0  Feb2022  Scheduled Commercial Banks            NaN             NaN   \n",
      "1  Feb2022         Public Sector Banks            NaN             NaN   \n",
      "2  Feb2022              BANK OF BARODA         8752.0          2750.0   \n",
      "3  Feb2022               BANK OF INDIA         2384.0          2615.0   \n",
      "4  Feb2022         BANK OF MAHARASHTRA         1670.0           434.0   \n",
      "\n",
      "   Credit card cash withdraw  Debit card cash withdraw  \n",
      "0                        NaN                       NaN  \n",
      "1                        NaN                       NaN  \n",
      "2                      814.0                 1260645.0  \n",
      "3                      507.0                  661442.0  \n",
      "4                       51.0                  287248.0  \n"
     ]
    },
    {
     "name": "stderr",
     "output_type": "stream",
     "text": [
      "/var/folders/8h/xtp_v7md6bs9195xxzbbf5d80000gn/T/ipykernel_3092/3903337038.py:41: FutureWarning: The behavior of DataFrame concatenation with empty or all-NA entries is deprecated. In a future version, this will no longer exclude empty or all-NA columns when determining the result dtypes. To retain the old behavior, exclude the relevant entries before the concat operation.\n",
      "  master2_df = pd.concat([master2_df, temp_df], ignore_index=True)\n"
     ]
    }
   ],
   "source": [
    "import pandas as pd\n",
    "import os\n",
    "\n",
    "# Define the sequence of files to process\n",
    "months = [\n",
    "    \"Feb2022\", \"Jan2022\", \"Dec2021\", \"Nov2021\", \"Oct2021\", \"Sep2021\",\n",
    "    \"Aug2021\", \"Jul2021\", \"Jun2021\", \"May2021\", \"Apr2021\", \"Mar2021\",\n",
    "    \"Feb2021\", \"Jan2021\"\n",
    "]\n",
    "\n",
    "# Base directory where the files are stored\n",
    "base_dir = \"/Users/meetsudra/Desktop/\"\n",
    "\n",
    "# Initialize an empty DataFrame\n",
    "master2_df = pd.DataFrame(columns=[\n",
    "    \"Date\", \"Bank Name\", \"Atm's on-site\", \"Atm's off-site\", \n",
    "    \"Credit card cash withdraw\", \"Debit card cash withdraw\"\n",
    "])\n",
    "\n",
    "# Process each file in the defined sequence\n",
    "for month in months:\n",
    "    file_path = os.path.join(base_dir, f\"{month}.csv\")\n",
    "\n",
    "    # Check if file exists before processing\n",
    "    if os.path.exists(file_path):\n",
    "\n",
    "        # Read the CSV file (no index column assumed)\n",
    "        df = pd.read_csv(file_path)\n",
    "\n",
    "        # Selecting required columns and renaming them\n",
    "        temp_df = df[[\"Bank Name\", \"1\", \"2\", \"10\", \"15\"]].copy()\n",
    "        temp_df.columns = [\n",
    "            \"Bank Name\", \"Atm's on-site\", \"Atm's off-site\", \n",
    "            \"Credit card cash withdraw\", \"Debit card cash withdraw\"\n",
    "        ]\n",
    "\n",
    "        # Add the \"Date\" column\n",
    "        temp_df.insert(0, \"Date\", month)\n",
    "\n",
    "        # Append to the master DataFrame\n",
    "        master2_df = pd.concat([master2_df, temp_df], ignore_index=True)\n",
    "    else:\n",
    "        print(f\"File not found: {file_path}\")\n",
    "\n",
    "# Display the processed DataFrame\n",
    "print(master2_df.head())\n",
    "\n"
   ]
  },
  {
   "cell_type": "code",
   "execution_count": 11,
   "metadata": {},
   "outputs": [],
   "source": [
    "master2_df.to_csv(\"master2_df.csv\", index=False)"
   ]
  },
  {
   "cell_type": "code",
   "execution_count": null,
   "metadata": {},
   "outputs": [],
   "source": []
  },
  {
   "cell_type": "code",
   "execution_count": null,
   "metadata": {},
   "outputs": [],
   "source": []
  },
  {
   "cell_type": "code",
   "execution_count": null,
   "metadata": {},
   "outputs": [],
   "source": []
  },
  {
   "cell_type": "markdown",
   "metadata": {},
   "source": [
    "# For Feb2022, Jan2022, 2021, May 2020"
   ]
  },
  {
   "cell_type": "code",
   "execution_count": null,
   "metadata": {},
   "outputs": [
    {
     "name": "stdout",
     "output_type": "stream",
     "text": [
      "      Date                   Bank Name  Atm's on-site  Atm's off-site  \\\n",
      "0  Feb2022  Scheduled Commercial Banks            NaN             NaN   \n",
      "1  Feb2022         Public Sector Banks            NaN             NaN   \n",
      "2  Feb2022              BANK OF BARODA         8752.0          2750.0   \n",
      "3  Feb2022               BANK OF INDIA         2384.0          2615.0   \n",
      "4  Feb2022         BANK OF MAHARASHTRA         1670.0           434.0   \n",
      "\n",
      "   Credit card cash withdraw  Debit card cash withdraw  \n",
      "0                        NaN                       NaN  \n",
      "1                        NaN                       NaN  \n",
      "2                      814.0                 1260645.0  \n",
      "3                      507.0                  661442.0  \n",
      "4                       51.0                  287248.0  \n"
     ]
    },
    {
     "name": "stderr",
     "output_type": "stream",
     "text": [
      "/var/folders/8h/xtp_v7md6bs9195xxzbbf5d80000gn/T/ipykernel_883/1508343964.py:42: FutureWarning: The behavior of DataFrame concatenation with empty or all-NA entries is deprecated. In a future version, this will no longer exclude empty or all-NA columns when determining the result dtypes. To retain the old behavior, exclude the relevant entries before the concat operation.\n",
      "  master2_df = pd.concat([master2_df, temp_df], ignore_index=True)\n"
     ]
    }
   ],
   "source": [
    "import pandas as pd\n",
    "import os\n",
    "\n",
    "# Define the sequence of files to process\n",
    "months = [\n",
    "    \"Feb2022\", \"Jan2022\", \"Dec2021\", \"Nov2021\", \"Oct2021\", \"Sep2021\",\n",
    "    \"Aug2021\", \"Jul2021\", \"Jun2021\", \"May2021\", \"Apr2021\", \"Mar2021\",\n",
    "    \"Feb2021\", \"Jan2021\", \"Dec2020\", \"Nov2020\", \"Oct2020\", \"Sep2020\",\n",
    "    \"Aug2020\", \"Jul2020\", \"Jun2020\", \"May2020\"\n",
    "]\n",
    "\n",
    "# Base directory where the files are stored\n",
    "base_dir = \"/Users/meetsudra/Desktop/\"\n",
    "\n",
    "# Initialize an empty DataFrame\n",
    "master2_df = pd.DataFrame(columns=[\n",
    "    \"Date\", \"Bank Name\", \"Atm's on-site\", \"Atm's off-site\", \n",
    "    \"Credit card cash withdraw\", \"Debit card cash withdraw\"\n",
    "])\n",
    "\n",
    "# Process each file in the defined sequence\n",
    "for month in months:\n",
    "    file_path = os.path.join(base_dir, f\"{month}.csv\")\n",
    "\n",
    "    # Check if file exists before processing\n",
    "    if os.path.exists(file_path):\n",
    "\n",
    "        # Read the CSV file (no index column assumed)\n",
    "        df = pd.read_csv(file_path)\n",
    "\n",
    "        # Selecting required columns and renaming them\n",
    "        temp_df = df[[\"Bank Name\", \"1\", \"2\", \"10\", \"15\"]].copy()\n",
    "        temp_df.columns = [\n",
    "            \"Bank Name\", \"Atm's on-site\", \"Atm's off-site\", \n",
    "            \"Credit card cash withdraw\", \"Debit card cash withdraw\"\n",
    "        ]\n",
    "\n",
    "        # Add the \"Date\" column\n",
    "        temp_df.insert(0, \"Date\", month)\n",
    "\n",
    "        # Append to the master DataFrame\n",
    "        master2_df = pd.concat([master2_df, temp_df], ignore_index=True)\n",
    "    else:\n",
    "        print(f\"File not found: {file_path}\")\n",
    "\n",
    "# Display the processed DataFrame\n",
    "print(master2_df.head())\n",
    "\n"
   ]
  },
  {
   "cell_type": "code",
   "execution_count": 4,
   "metadata": {},
   "outputs": [],
   "source": [
    "master2_df.to_csv(\"master2_df.csv\", index=False)"
   ]
  },
  {
   "cell_type": "code",
   "execution_count": null,
   "metadata": {},
   "outputs": [],
   "source": []
  },
  {
   "cell_type": "code",
   "execution_count": null,
   "metadata": {},
   "outputs": [],
   "source": []
  },
  {
   "cell_type": "code",
   "execution_count": null,
   "metadata": {},
   "outputs": [],
   "source": []
  },
  {
   "cell_type": "markdown",
   "metadata": {},
   "source": [
    "# from April 2020 to Jan 2019 due to format change "
   ]
  },
  {
   "cell_type": "code",
   "execution_count": 7,
   "metadata": {},
   "outputs": [
    {
     "name": "stdout",
     "output_type": "stream",
     "text": [
      "Processing: /Users/meetsudra/Desktop/Apr2020.csv\n",
      "Processing: /Users/meetsudra/Desktop/Mar2020.csv\n",
      "Processing: /Users/meetsudra/Desktop/Feb2020.csv\n",
      "Processing: /Users/meetsudra/Desktop/Jan2020.csv\n",
      "Processing: /Users/meetsudra/Desktop/Dec2019.csv\n",
      "Processing: /Users/meetsudra/Desktop/Nov2019.csv\n",
      "Processing: /Users/meetsudra/Desktop/Oct2019.csv\n",
      "Processing: /Users/meetsudra/Desktop/Sep2019.csv\n",
      "Processing: /Users/meetsudra/Desktop/Aug2019.csv\n",
      "Processing: /Users/meetsudra/Desktop/Jul2019.csv\n",
      "Processing: /Users/meetsudra/Desktop/Jun2019.csv\n",
      "Processing: /Users/meetsudra/Desktop/May2019.csv\n",
      "Processing: /Users/meetsudra/Desktop/Apr2019.csv\n",
      "Processing: /Users/meetsudra/Desktop/Mar2019.csv\n",
      "Processing: /Users/meetsudra/Desktop/Feb2019.csv\n",
      "Processing: /Users/meetsudra/Desktop/Jan2019.csv\n",
      "      Date                   Bank Name  Atm's on-site  Atm's off-site  \\\n",
      "0  Apr2020                         NaN            1.0             2.0   \n",
      "1  Apr2020  Scheduled Commercial Banks            NaN             NaN   \n",
      "2  Apr2020         Public Sector Banks            NaN             NaN   \n",
      "3  Apr2020              BANK OF BARODA         8961.0          3698.0   \n",
      "4  Apr2020               BANK OF INDIA         2416.0          3334.0   \n",
      "\n",
      "   Credit card cash withdraw  Debit card cash withdraw  \n",
      "0                        8.0                      13.0  \n",
      "1                        NaN                       NaN  \n",
      "2                        NaN                       NaN  \n",
      "3                      241.0                  574472.0  \n",
      "4                      364.0                  344871.0  \n"
     ]
    },
    {
     "name": "stderr",
     "output_type": "stream",
     "text": [
      "/var/folders/8h/xtp_v7md6bs9195xxzbbf5d80000gn/T/ipykernel_883/2084364278.py:46: FutureWarning: The behavior of DataFrame concatenation with empty or all-NA entries is deprecated. In a future version, this will no longer exclude empty or all-NA columns when determining the result dtypes. To retain the old behavior, exclude the relevant entries before the concat operation.\n",
      "  master3_df = pd.concat([master3_df, temp_df], ignore_index=True)\n"
     ]
    }
   ],
   "source": [
    "import pandas as pd\n",
    "import os\n",
    "\n",
    "# Define the sequence of files to process\n",
    "months = [\n",
    "    \"Apr2020\", \"Mar2020\", \"Feb2020\", \"Jan2020\",\n",
    "    \"Dec2019\", \"Nov2019\", \"Oct2019\", \"Sep2019\",\n",
    "    \"Aug2019\", \"Jul2019\", \"Jun2019\", \"May2019\",\n",
    "    \"Apr2019\", \"Mar2019\", \"Feb2019\", \"Jan2019\"\n",
    "]\n",
    "\n",
    "# Base directory where the files are stored\n",
    "base_dir = \"/Users/meetsudra/Desktop/\"\n",
    "\n",
    "# Initialize an empty DataFrame\n",
    "master3_df = pd.DataFrame(columns=[\n",
    "    \"Date\", \"Bank Name\", \"Atm's on-site\", \"Atm's off-site\", \n",
    "    \"Credit card cash withdraw\", \"Debit card cash withdraw\"\n",
    "])\n",
    "\n",
    "# Process each file in the defined sequence\n",
    "for month in months:\n",
    "    file_path = os.path.join(base_dir, f\"{month}.csv\")\n",
    "\n",
    "    # Check if file exists before processing\n",
    "    if os.path.exists(file_path):\n",
    "        print(f\"Processing: {file_path}\")\n",
    "\n",
    "        # Read the CSV file with no headers\n",
    "        df = pd.read_csv(file_path, header=None)\n",
    "\n",
    "        # Assign proper column names\n",
    "        df.columns = [\"Bank Name\", \"1\", \"2\", \"8\", \"13\"]\n",
    "\n",
    "        # Selecting required columns\n",
    "        temp_df = df[[\"Bank Name\", \"1\", \"2\", \"8\", \"13\"]].copy()\n",
    "        temp_df.columns = [\n",
    "            \"Bank Name\", \"Atm's on-site\", \"Atm's off-site\", \n",
    "            \"Credit card cash withdraw\", \"Debit card cash withdraw\"\n",
    "        ]\n",
    "\n",
    "        # Add the \"Date\" column\n",
    "        temp_df.insert(0, \"Date\", month)\n",
    "\n",
    "        # Append to the master DataFrame\n",
    "        master3_df = pd.concat([master3_df, temp_df], ignore_index=True)\n",
    "    else:\n",
    "        print(f\"File not found: {file_path}\")\n",
    "\n",
    "# Display the processed DataFrame\n",
    "print(master3_df.head())\n"
   ]
  },
  {
   "cell_type": "code",
   "execution_count": 8,
   "metadata": {},
   "outputs": [],
   "source": [
    "master3_df.to_csv(\"master3_df.csv\", index=False)"
   ]
  },
  {
   "cell_type": "code",
   "execution_count": null,
   "metadata": {},
   "outputs": [],
   "source": []
  },
  {
   "cell_type": "code",
   "execution_count": null,
   "metadata": {},
   "outputs": [],
   "source": []
  },
  {
   "cell_type": "code",
   "execution_count": null,
   "metadata": {},
   "outputs": [],
   "source": []
  },
  {
   "cell_type": "markdown",
   "metadata": {},
   "source": [
    "# For April 2020 to Jan 2018"
   ]
  },
  {
   "cell_type": "code",
   "execution_count": 12,
   "metadata": {},
   "outputs": [
    {
     "name": "stdout",
     "output_type": "stream",
     "text": [
      "Processing: /Users/meetsudra/Desktop/Apr2020.csv\n",
      "Processing: /Users/meetsudra/Desktop/Mar2020.csv\n",
      "Processing: /Users/meetsudra/Desktop/Feb2020.csv\n",
      "Processing: /Users/meetsudra/Desktop/Jan2020.csv\n",
      "Processing: /Users/meetsudra/Desktop/Dec2019.csv\n",
      "Processing: /Users/meetsudra/Desktop/Nov2019.csv\n",
      "Processing: /Users/meetsudra/Desktop/Oct2019.csv\n",
      "Processing: /Users/meetsudra/Desktop/Sep2019.csv\n",
      "Processing: /Users/meetsudra/Desktop/Aug2019.csv\n",
      "Processing: /Users/meetsudra/Desktop/Jul2019.csv\n",
      "Processing: /Users/meetsudra/Desktop/Jun2019.csv\n",
      "Processing: /Users/meetsudra/Desktop/May2019.csv\n",
      "Processing: /Users/meetsudra/Desktop/Apr2019.csv\n",
      "Processing: /Users/meetsudra/Desktop/Mar2019.csv\n",
      "Processing: /Users/meetsudra/Desktop/Feb2019.csv\n",
      "Processing: /Users/meetsudra/Desktop/Jan2019.csv\n",
      "Processing: /Users/meetsudra/Desktop/Dec2018.csv\n",
      "Processing: /Users/meetsudra/Desktop/Nov2018.csv\n",
      "Processing: /Users/meetsudra/Desktop/Oct2018.csv\n",
      "Processing: /Users/meetsudra/Desktop/Sep2018.csv\n",
      "Processing: /Users/meetsudra/Desktop/Aug2018.csv\n",
      "Processing: /Users/meetsudra/Desktop/Jul2018.csv\n",
      "Processing: /Users/meetsudra/Desktop/Jun2018.csv\n",
      "Processing: /Users/meetsudra/Desktop/May2018.csv\n",
      "Processing: /Users/meetsudra/Desktop/Apr2018.csv\n",
      "Processing: /Users/meetsudra/Desktop/Mar2018.csv\n",
      "Processing: /Users/meetsudra/Desktop/Feb2018.csv\n",
      "Processing: /Users/meetsudra/Desktop/Jan2018.csv\n",
      "      Date                   Bank Name  Atm's on-site  Atm's off-site  \\\n",
      "0  Apr2020                         NaN            1.0             2.0   \n",
      "1  Apr2020  Scheduled Commercial Banks            NaN             NaN   \n",
      "2  Apr2020         Public Sector Banks            NaN             NaN   \n",
      "3  Apr2020              BANK OF BARODA         8961.0          3698.0   \n",
      "4  Apr2020               BANK OF INDIA         2416.0          3334.0   \n",
      "\n",
      "   Credit card cash withdraw  Debit card cash withdraw  \n",
      "0                        8.0                      13.0  \n",
      "1                        NaN                       NaN  \n",
      "2                        NaN                       NaN  \n",
      "3                      241.0                  574472.0  \n",
      "4                      364.0                  344871.0  \n"
     ]
    },
    {
     "name": "stderr",
     "output_type": "stream",
     "text": [
      "/var/folders/8h/xtp_v7md6bs9195xxzbbf5d80000gn/T/ipykernel_883/3686048270.py:49: FutureWarning: The behavior of DataFrame concatenation with empty or all-NA entries is deprecated. In a future version, this will no longer exclude empty or all-NA columns when determining the result dtypes. To retain the old behavior, exclude the relevant entries before the concat operation.\n",
      "  master3_df = pd.concat([master3_df, temp_df], ignore_index=True)\n"
     ]
    }
   ],
   "source": [
    "import pandas as pd\n",
    "import os\n",
    "\n",
    "# Define the sequence of months (April 2020 to January 2018)\n",
    "months = [\n",
    "    \"Apr2020\", \"Mar2020\", \"Feb2020\", \"Jan2020\",\n",
    "    \"Dec2019\", \"Nov2019\", \"Oct2019\", \"Sep2019\",\n",
    "    \"Aug2019\", \"Jul2019\", \"Jun2019\", \"May2019\",\n",
    "    \"Apr2019\", \"Mar2019\", \"Feb2019\", \"Jan2019\",\n",
    "    \"Dec2018\", \"Nov2018\", \"Oct2018\", \"Sep2018\",\n",
    "    \"Aug2018\", \"Jul2018\", \"Jun2018\", \"May2018\",\n",
    "    \"Apr2018\", \"Mar2018\", \"Feb2018\", \"Jan2018\"\n",
    "]\n",
    "\n",
    "# Base directory where the files are stored\n",
    "base_dir = \"/Users/meetsudra/Desktop/\"\n",
    "\n",
    "# Initialize an empty DataFrame\n",
    "master3_df = pd.DataFrame(columns=[\n",
    "    \"Date\", \"Bank Name\", \"Atm's on-site\", \"Atm's off-site\", \n",
    "    \"Credit card cash withdraw\", \"Debit card cash withdraw\"\n",
    "])\n",
    "\n",
    "# Process each file in the sequence\n",
    "for month in months:\n",
    "    file_path = os.path.join(base_dir, f\"{month}.csv\")\n",
    "\n",
    "    # Check if file exists before processing\n",
    "    if os.path.exists(file_path):\n",
    "        print(f\"Processing: {file_path}\")\n",
    "\n",
    "        # Read the CSV file without headers\n",
    "        df = pd.read_csv(file_path, header=None)\n",
    "\n",
    "        # Assign proper column names\n",
    "        df.columns = [\"Bank Name\", \"1\", \"2\", \"8\", \"13\"]\n",
    "\n",
    "        # Selecting required columns\n",
    "        temp_df = df[[\"Bank Name\", \"1\", \"2\", \"8\", \"13\"]].copy()\n",
    "        temp_df.columns = [\n",
    "            \"Bank Name\", \"Atm's on-site\", \"Atm's off-site\", \n",
    "            \"Credit card cash withdraw\", \"Debit card cash withdraw\"\n",
    "        ]\n",
    "\n",
    "        # Add the \"Date\" column\n",
    "        temp_df.insert(0, \"Date\", month)\n",
    "\n",
    "        # Append to the master DataFrame\n",
    "        master3_df = pd.concat([master3_df, temp_df], ignore_index=True)\n",
    "    else:\n",
    "        print(f\"File not found: {file_path}\")\n",
    "\n",
    "# Display the processed DataFrame\n",
    "print(master3_df.head())\n",
    "\n"
   ]
  },
  {
   "cell_type": "code",
   "execution_count": 13,
   "metadata": {},
   "outputs": [],
   "source": [
    "master3_df.to_csv(\"master3_df.csv\", index=False)"
   ]
  },
  {
   "cell_type": "code",
   "execution_count": null,
   "metadata": {},
   "outputs": [],
   "source": []
  },
  {
   "cell_type": "code",
   "execution_count": null,
   "metadata": {},
   "outputs": [],
   "source": []
  },
  {
   "cell_type": "code",
   "execution_count": null,
   "metadata": {},
   "outputs": [],
   "source": []
  },
  {
   "cell_type": "markdown",
   "metadata": {},
   "source": [
    "# From Apr2020 TO Jan2017"
   ]
  },
  {
   "cell_type": "code",
   "execution_count": 2,
   "metadata": {},
   "outputs": [
    {
     "name": "stdout",
     "output_type": "stream",
     "text": [
      "Processing: /Users/meetsudra/Desktop/Apr2020.csv\n",
      "Processing: /Users/meetsudra/Desktop/Mar2020.csv\n",
      "Processing: /Users/meetsudra/Desktop/Feb2020.csv\n",
      "Processing: /Users/meetsudra/Desktop/Jan2020.csv\n",
      "Processing: /Users/meetsudra/Desktop/Dec2019.csv\n",
      "Processing: /Users/meetsudra/Desktop/Nov2019.csv\n",
      "Processing: /Users/meetsudra/Desktop/Oct2019.csv\n",
      "Processing: /Users/meetsudra/Desktop/Sep2019.csv\n",
      "Processing: /Users/meetsudra/Desktop/Aug2019.csv\n",
      "Processing: /Users/meetsudra/Desktop/Jul2019.csv\n",
      "Processing: /Users/meetsudra/Desktop/Jun2019.csv\n",
      "Processing: /Users/meetsudra/Desktop/May2019.csv\n",
      "Processing: /Users/meetsudra/Desktop/Apr2019.csv\n",
      "Processing: /Users/meetsudra/Desktop/Mar2019.csv\n",
      "Processing: /Users/meetsudra/Desktop/Feb2019.csv\n",
      "Processing: /Users/meetsudra/Desktop/Jan2019.csv\n",
      "Processing: /Users/meetsudra/Desktop/Dec2018.csv\n",
      "Processing: /Users/meetsudra/Desktop/Nov2018.csv\n",
      "Processing: /Users/meetsudra/Desktop/Oct2018.csv\n",
      "Processing: /Users/meetsudra/Desktop/Sep2018.csv\n",
      "Processing: /Users/meetsudra/Desktop/Aug2018.csv\n",
      "Processing: /Users/meetsudra/Desktop/Jul2018.csv\n",
      "Processing: /Users/meetsudra/Desktop/Jun2018.csv\n",
      "Processing: /Users/meetsudra/Desktop/May2018.csv\n",
      "Processing: /Users/meetsudra/Desktop/Apr2018.csv\n",
      "Processing: /Users/meetsudra/Desktop/Mar2018.csv\n",
      "Processing: /Users/meetsudra/Desktop/Feb2018.csv\n",
      "Processing: /Users/meetsudra/Desktop/Jan2018.csv\n",
      "Processing: /Users/meetsudra/Desktop/Dec2017.csv\n",
      "Processing: /Users/meetsudra/Desktop/Nov2017.csv\n",
      "Processing: /Users/meetsudra/Desktop/Oct2017.csv\n",
      "Processing: /Users/meetsudra/Desktop/Sep2017.csv\n",
      "Processing: /Users/meetsudra/Desktop/Aug2017.csv\n",
      "Processing: /Users/meetsudra/Desktop/Jul2017.csv\n",
      "Processing: /Users/meetsudra/Desktop/Jun2017.csv\n",
      "Processing: /Users/meetsudra/Desktop/May2017.csv\n",
      "Processing: /Users/meetsudra/Desktop/Apr2017.csv\n",
      "File not found: /Users/meetsudra/Desktop/Mar2017.csv\n",
      "Processing: /Users/meetsudra/Desktop/Feb2017.csv\n",
      "Processing: /Users/meetsudra/Desktop/Jan2017.csv\n",
      "      Date                   Bank Name  Atm's on-site  Atm's off-site  \\\n",
      "0  Apr2020                         NaN            1.0             2.0   \n",
      "1  Apr2020  Scheduled Commercial Banks            NaN             NaN   \n",
      "2  Apr2020         Public Sector Banks            NaN             NaN   \n",
      "3  Apr2020              BANK OF BARODA         8961.0          3698.0   \n",
      "4  Apr2020               BANK OF INDIA         2416.0          3334.0   \n",
      "\n",
      "   Credit card cash withdraw  Debit card cash withdraw  \n",
      "0                        8.0                      13.0  \n",
      "1                        NaN                       NaN  \n",
      "2                        NaN                       NaN  \n",
      "3                      241.0                  574472.0  \n",
      "4                      364.0                  344871.0  \n"
     ]
    },
    {
     "name": "stderr",
     "output_type": "stream",
     "text": [
      "/var/folders/8h/xtp_v7md6bs9195xxzbbf5d80000gn/T/ipykernel_1509/3159102658.py:52: FutureWarning: The behavior of DataFrame concatenation with empty or all-NA entries is deprecated. In a future version, this will no longer exclude empty or all-NA columns when determining the result dtypes. To retain the old behavior, exclude the relevant entries before the concat operation.\n",
      "  master3_df = pd.concat([master3_df, temp_df], ignore_index=True)\n"
     ]
    }
   ],
   "source": [
    "import pandas as pd\n",
    "import os\n",
    "\n",
    "# Define the sequence of months from Apr 2020 to Jan 2017\n",
    "months = [\n",
    "    \"Apr2020\", \"Mar2020\", \"Feb2020\", \"Jan2020\",\n",
    "    \"Dec2019\", \"Nov2019\", \"Oct2019\", \"Sep2019\",\n",
    "    \"Aug2019\", \"Jul2019\", \"Jun2019\", \"May2019\",\n",
    "    \"Apr2019\", \"Mar2019\", \"Feb2019\", \"Jan2019\",\n",
    "    \"Dec2018\", \"Nov2018\", \"Oct2018\", \"Sep2018\",\n",
    "    \"Aug2018\", \"Jul2018\", \"Jun2018\", \"May2018\",\n",
    "    \"Apr2018\", \"Mar2018\", \"Feb2018\", \"Jan2018\",\n",
    "    \"Dec2017\", \"Nov2017\", \"Oct2017\", \"Sep2017\",\n",
    "    \"Aug2017\", \"Jul2017\", \"Jun2017\", \"May2017\",\n",
    "    \"Apr2017\", \"Mar2017\", \"Feb2017\", \"Jan2017\"\n",
    "]\n",
    "\n",
    "# Base directory where the files are stored\n",
    "base_dir = \"/Users/meetsudra/Desktop/\"\n",
    "\n",
    "# Initialize an empty DataFrame\n",
    "master3_df = pd.DataFrame(columns=[\n",
    "    \"Date\", \"Bank Name\", \"Atm's on-site\", \"Atm's off-site\", \n",
    "    \"Credit card cash withdraw\", \"Debit card cash withdraw\"\n",
    "])\n",
    "\n",
    "# Process each file in the sequence\n",
    "for month in months:\n",
    "    file_path = os.path.join(base_dir, f\"{month}.csv\")\n",
    "\n",
    "    # Check if file exists before processing\n",
    "    if os.path.exists(file_path):\n",
    "        print(f\"Processing: {file_path}\")\n",
    "\n",
    "        # Read the CSV file without headers (first column is Bank Name)\n",
    "        df = pd.read_csv(file_path, header=None)\n",
    "\n",
    "        # Assign column names\n",
    "        df.columns = [\"Bank Name\", \"1\", \"2\", \"8\", \"13\"]\n",
    "\n",
    "        # Selecting required columns\n",
    "        temp_df = df[[\"Bank Name\", \"1\", \"2\", \"8\", \"13\"]].copy()\n",
    "        temp_df.columns = [\n",
    "            \"Bank Name\", \"Atm's on-site\", \"Atm's off-site\", \n",
    "            \"Credit card cash withdraw\", \"Debit card cash withdraw\"\n",
    "        ]\n",
    "\n",
    "        # Add the \"Date\" column\n",
    "        temp_df.insert(0, \"Date\", month)\n",
    "\n",
    "        # Append to the master DataFrame\n",
    "        master3_df = pd.concat([master3_df, temp_df], ignore_index=True)\n",
    "    else:\n",
    "        print(f\"File not found: {file_path}\")\n",
    "\n",
    "# Display the processed DataFrame\n",
    "print(master3_df.head())\n",
    "\n"
   ]
  },
  {
   "cell_type": "code",
   "execution_count": 3,
   "metadata": {},
   "outputs": [],
   "source": [
    "master3_df.to_csv(\"master3_df.csv\", index=False)"
   ]
  },
  {
   "cell_type": "code",
   "execution_count": null,
   "metadata": {},
   "outputs": [],
   "source": []
  },
  {
   "cell_type": "code",
   "execution_count": null,
   "metadata": {},
   "outputs": [],
   "source": []
  },
  {
   "cell_type": "code",
   "execution_count": null,
   "metadata": {},
   "outputs": [],
   "source": []
  },
  {
   "cell_type": "markdown",
   "metadata": {},
   "source": [
    "# Concating all three dataframes"
   ]
  },
  {
   "cell_type": "code",
   "execution_count": 3,
   "metadata": {},
   "outputs": [
    {
     "name": "stdout",
     "output_type": "stream",
     "text": [
      "      Date            Bank Name  Atm's on-site  Atm's off-site  \\\n",
      "0  Jan2025                  NaN            NaN             NaN   \n",
      "1  Jan2025       BANK OF BARODA         8504.0          2411.0   \n",
      "2  Jan2025        BANK OF INDIA         5341.0          2895.0   \n",
      "3  Jan2025  BANK OF MAHARASHTRA         2197.0           252.0   \n",
      "4  Jan2025          CANARA BANK         8174.0          3794.0   \n",
      "\n",
      "   Credit card cash withdraw  Debit card cash withdraw  \n",
      "0                        NaN                       NaN  \n",
      "1                    63510.0               120380330.0  \n",
      "2                    29163.0                63783084.0  \n",
      "3                     3709.0                29366539.0  \n",
      "4                   560312.0               150843429.0  \n",
      "Final merged file saved at: /Users/meetsudra/Desktop/Master.csv\n"
     ]
    }
   ],
   "source": [
    "import pandas as pd\n",
    "\n",
    "# Define file paths\n",
    "master_path = \"/Users/meetsudra/Documents/GitHub/ATM Cash Forecasting/raw_csv/master_df.csv\"\n",
    "master2_path = \"/Users/meetsudra/Documents/GitHub/ATM Cash Forecasting/raw_csv/master2_df.csv\"\n",
    "master3_path = \"/Users/meetsudra/Documents/GitHub/ATM Cash Forecasting/raw_csv/master3_df.csv\"\n",
    "\n",
    "# Read the CSV files into DataFrames\n",
    "master_df = pd.read_csv(master_path)\n",
    "master2_df = pd.read_csv(master2_path)\n",
    "master3_df = pd.read_csv(master3_path)\n",
    "\n",
    "\n",
    "final_master_df = pd.concat([master_df, master2_df, master3_df], ignore_index=True)\n",
    "\n",
    "# Display the first few rows of the merged dataset\n",
    "print(final_master_df.head())\n",
    "\n",
    "# Save the final merged file\n",
    "output_path = \"/Users/meetsudra/Desktop/Master.csv\"\n",
    "final_master_df.to_csv(output_path, index=False)\n",
    "\n",
    "print(f\"Final merged file saved at: {output_path}\")\n"
   ]
  },
  {
   "cell_type": "code",
   "execution_count": null,
   "metadata": {},
   "outputs": [],
   "source": []
  }
 ],
 "metadata": {
  "kernelspec": {
   "display_name": "Python 3",
   "language": "python",
   "name": "python3"
  },
  "language_info": {
   "codemirror_mode": {
    "name": "ipython",
    "version": 3
   },
   "file_extension": ".py",
   "mimetype": "text/x-python",
   "name": "python",
   "nbconvert_exporter": "python",
   "pygments_lexer": "ipython3",
   "version": "3.12.3"
  }
 },
 "nbformat": 4,
 "nbformat_minor": 2
}
