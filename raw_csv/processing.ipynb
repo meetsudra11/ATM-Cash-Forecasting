{
 "cells": [
  {
   "cell_type": "code",
   "execution_count": 1,
   "metadata": {},
   "outputs": [],
   "source": [
    "import pandas as pd\n",
    "import numpy as np"
   ]
  },
  {
   "cell_type": "code",
   "execution_count": 2,
   "metadata": {},
   "outputs": [],
   "source": [
    "df = pd.read_csv(\"/Users/meetsudra/Desktop/Master.csv\")"
   ]
  },
  {
   "cell_type": "code",
   "execution_count": 3,
   "metadata": {},
   "outputs": [
    {
     "data": {
      "text/plain": [
       "Date                         3712\n",
       "Bank Name                    3604\n",
       "Atm's on-site                3531\n",
       "Atm's off-site               3531\n",
       "Credit card cash withdraw    3533\n",
       "Debit card cash withdraw     3533\n",
       "dtype: int64"
      ]
     },
     "execution_count": 3,
     "metadata": {},
     "output_type": "execute_result"
    }
   ],
   "source": [
    "df.count()"
   ]
  },
  {
   "cell_type": "markdown",
   "metadata": {},
   "source": [
    "# Removing Unwanted bank names "
   ]
  },
  {
   "cell_type": "code",
   "execution_count": 4,
   "metadata": {},
   "outputs": [
    {
     "data": {
      "text/plain": [
       "array([nan, 'BANK OF BARODA', 'BANK OF INDIA', 'BANK OF MAHARASHTRA',\n",
       "       'CANARA BANK', 'CENTRAL BANK OF INDIA', 'INDIAN BANK',\n",
       "       'INDIAN OVERSEAS BANK', 'PUNJAB AND SIND BANK',\n",
       "       'PUNJAB NATIONAL BANK', 'STATE BANK OF INDIA', 'UCO BANK',\n",
       "       'UNION BANK OF INDIA', 'AXIS BANK LTD', 'BANDHAN BANK LTD',\n",
       "       'CITY UNION BANK LTD.', 'CSB BANK LTD.', 'DCB BANK LTD',\n",
       "       'DHANALAXMI BANK LTD', 'FEDERAL BANK LTD', 'HDFC BANK LTD',\n",
       "       'ICICI BANK LTD', 'IDBI BANK LTD', 'IDFC FIRST BANK LTD',\n",
       "       'INDUSIND BANK LTD', 'JAMMU AND KASHMIR BANK LTD',\n",
       "       'KARNATAKA BANK LTD', 'KARUR VYSYA BANK LTD',\n",
       "       'KOTAK MAHINDRA BANK LTD', 'NAINITAL BANK LTD', 'RBL BANK LTD',\n",
       "       'SOUTH INDIAN BANK', 'TAMILNAD MERCANTILE BANK LTD',\n",
       "       'YES BANK LTD', 'DHANALAKSHMI BANK LTD', 'CITY UNION BANK',\n",
       "       'CATHOLIC SYRIAN BANK LTD', 'IDBI LTD', 'IDFC Bank Limited',\n",
       "       'JAMMU AND KASHMIR BANK', 'RATNAKAR BANK LIMITED', 'CSB BANK LTD',\n",
       "       'Scheduled Commercial Banks', 'Public Sector Banks',\n",
       "       'Private Sector Banks', 'CSB BANK LIMITED',\n",
       "       'THE LAXMI VILAS BANK LTD', 'ALLAHABAD BANK', 'ANDHRA BANK',\n",
       "       'CORPORATION BANK', 'ORIENTAL BANK OF COMMERCE', 'SYNDICATE BANK',\n",
       "       'UNITED BANK OF INDIA', 'Bank Name', 'DENA BANK', 'VIJAYA BANK',\n",
       "       'DCB BANK LTD.', 'DEVELOPMENT CREDIT BANK', 'Bandhan Bank Ltd',\n",
       "       'BANDHAN BANK', 'DEVELOPMENT CREDIT BANK ', 'IDFC BANK LTD',\n",
       "       'STATE BANK OF BIKANER AND JAIPUR', 'STATE BANK OF HYDERABAD',\n",
       "       'STATE BANK OF MYSORE', 'STATE BANK OF PATIALA',\n",
       "       'STATE BANK OF TRAVANCORE'], dtype=object)"
      ]
     },
     "execution_count": 4,
     "metadata": {},
     "output_type": "execute_result"
    }
   ],
   "source": [
    "df[\"Bank Name\"].unique()"
   ]
  },
  {
   "cell_type": "code",
   "execution_count": 5,
   "metadata": {},
   "outputs": [
    {
     "name": "stdout",
     "output_type": "stream",
     "text": [
      "      Date            Bank Name  Atm's on-site  Atm's off-site  \\\n",
      "0  Jan2025                  NaN            NaN             NaN   \n",
      "1  Jan2025       BANK OF BARODA         8504.0          2411.0   \n",
      "2  Jan2025        BANK OF INDIA         5341.0          2895.0   \n",
      "3  Jan2025  BANK OF MAHARASHTRA         2197.0           252.0   \n",
      "4  Jan2025          CANARA BANK         8174.0          3794.0   \n",
      "\n",
      "   Credit card cash withdraw  Debit card cash withdraw  \n",
      "0                        NaN                       NaN  \n",
      "1                    63510.0               120380330.0  \n",
      "2                    29163.0                63783084.0  \n",
      "3                     3709.0                29366539.0  \n",
      "4                   560312.0               150843429.0  \n"
     ]
    }
   ],
   "source": [
    "# Define the list of unwanted bank names\n",
    "unwanted_banks = [\"Private Sector Banks\", \"Public Sector Banks\", \"Scheduled Commercial Banks\",\"Bank Name\"]\n",
    "\n",
    "# Remove rows where \"Bank Name\" is in the unwanted list\n",
    "df = df[~df[\"Bank Name\"].isin(unwanted_banks)]\n",
    "\n",
    "# Display the first few rows after filtering\n",
    "print(df.head())\n"
   ]
  },
  {
   "cell_type": "code",
   "execution_count": 6,
   "metadata": {},
   "outputs": [
    {
     "data": {
      "text/plain": [
       "array([nan, 'BANK OF BARODA', 'BANK OF INDIA', 'BANK OF MAHARASHTRA',\n",
       "       'CANARA BANK', 'CENTRAL BANK OF INDIA', 'INDIAN BANK',\n",
       "       'INDIAN OVERSEAS BANK', 'PUNJAB AND SIND BANK',\n",
       "       'PUNJAB NATIONAL BANK', 'STATE BANK OF INDIA', 'UCO BANK',\n",
       "       'UNION BANK OF INDIA', 'AXIS BANK LTD', 'BANDHAN BANK LTD',\n",
       "       'CITY UNION BANK LTD.', 'CSB BANK LTD.', 'DCB BANK LTD',\n",
       "       'DHANALAXMI BANK LTD', 'FEDERAL BANK LTD', 'HDFC BANK LTD',\n",
       "       'ICICI BANK LTD', 'IDBI BANK LTD', 'IDFC FIRST BANK LTD',\n",
       "       'INDUSIND BANK LTD', 'JAMMU AND KASHMIR BANK LTD',\n",
       "       'KARNATAKA BANK LTD', 'KARUR VYSYA BANK LTD',\n",
       "       'KOTAK MAHINDRA BANK LTD', 'NAINITAL BANK LTD', 'RBL BANK LTD',\n",
       "       'SOUTH INDIAN BANK', 'TAMILNAD MERCANTILE BANK LTD',\n",
       "       'YES BANK LTD', 'DHANALAKSHMI BANK LTD', 'CITY UNION BANK',\n",
       "       'CATHOLIC SYRIAN BANK LTD', 'IDBI LTD', 'IDFC Bank Limited',\n",
       "       'JAMMU AND KASHMIR BANK', 'RATNAKAR BANK LIMITED', 'CSB BANK LTD',\n",
       "       'CSB BANK LIMITED', 'THE LAXMI VILAS BANK LTD', 'ALLAHABAD BANK',\n",
       "       'ANDHRA BANK', 'CORPORATION BANK', 'ORIENTAL BANK OF COMMERCE',\n",
       "       'SYNDICATE BANK', 'UNITED BANK OF INDIA', 'DENA BANK',\n",
       "       'VIJAYA BANK', 'DCB BANK LTD.', 'DEVELOPMENT CREDIT BANK',\n",
       "       'Bandhan Bank Ltd', 'BANDHAN BANK', 'DEVELOPMENT CREDIT BANK ',\n",
       "       'IDFC BANK LTD', 'STATE BANK OF BIKANER AND JAIPUR',\n",
       "       'STATE BANK OF HYDERABAD', 'STATE BANK OF MYSORE',\n",
       "       'STATE BANK OF PATIALA', 'STATE BANK OF TRAVANCORE'], dtype=object)"
      ]
     },
     "execution_count": 6,
     "metadata": {},
     "output_type": "execute_result"
    }
   ],
   "source": [
    "df[\"Bank Name\"].unique()"
   ]
  },
  {
   "cell_type": "markdown",
   "metadata": {},
   "source": [
    "# Removing null values "
   ]
  },
  {
   "cell_type": "code",
   "execution_count": 7,
   "metadata": {},
   "outputs": [
    {
     "data": {
      "text/plain": [
       "108"
      ]
     },
     "execution_count": 7,
     "metadata": {},
     "output_type": "execute_result"
    }
   ],
   "source": [
    "df[\"Bank Name\"].isnull().sum()"
   ]
  },
  {
   "cell_type": "code",
   "execution_count": 8,
   "metadata": {},
   "outputs": [
    {
     "name": "stdout",
     "output_type": "stream",
     "text": [
      "Index([   0,   13,   35,   36,   49,   71,   72,   73,   86,  108,\n",
      "       ...\n",
      "       1162, 1183, 1184, 1197, 1218, 1219, 1232, 2041, 2078, 2121],\n",
      "      dtype='int64', length=108)\n"
     ]
    }
   ],
   "source": [
    "nan_indices = df[df[\"Bank Name\"].isnull()].index\n",
    "\n",
    "# Print the index numbers\n",
    "print(nan_indices)\n"
   ]
  },
  {
   "cell_type": "code",
   "execution_count": 9,
   "metadata": {},
   "outputs": [],
   "source": [
    "# Drop rows where \"Bank Name\" is NaN\n",
    "df = df.dropna(subset=[\"Bank Name\"])\n",
    "\n",
    "# Drop rows that are completely empty\n",
    "df = df.dropna(how=\"all\")\n"
   ]
  },
  {
   "cell_type": "code",
   "execution_count": 10,
   "metadata": {},
   "outputs": [
    {
     "name": "stdout",
     "output_type": "stream",
     "text": [
      "Index([], dtype='int64')\n"
     ]
    }
   ],
   "source": [
    "nan_indices = df[df[\"Bank Name\"].isnull()].index\n",
    "\n",
    "# Print the index numbers\n",
    "print(nan_indices)\n"
   ]
  },
  {
   "cell_type": "code",
   "execution_count": 11,
   "metadata": {},
   "outputs": [
    {
     "data": {
      "text/plain": [
       "array(['BANK OF BARODA', 'BANK OF INDIA', 'BANK OF MAHARASHTRA',\n",
       "       'CANARA BANK', 'CENTRAL BANK OF INDIA', 'INDIAN BANK',\n",
       "       'INDIAN OVERSEAS BANK', 'PUNJAB AND SIND BANK',\n",
       "       'PUNJAB NATIONAL BANK', 'STATE BANK OF INDIA', 'UCO BANK',\n",
       "       'UNION BANK OF INDIA', 'AXIS BANK LTD', 'BANDHAN BANK LTD',\n",
       "       'CITY UNION BANK LTD.', 'CSB BANK LTD.', 'DCB BANK LTD',\n",
       "       'DHANALAXMI BANK LTD', 'FEDERAL BANK LTD', 'HDFC BANK LTD',\n",
       "       'ICICI BANK LTD', 'IDBI BANK LTD', 'IDFC FIRST BANK LTD',\n",
       "       'INDUSIND BANK LTD', 'JAMMU AND KASHMIR BANK LTD',\n",
       "       'KARNATAKA BANK LTD', 'KARUR VYSYA BANK LTD',\n",
       "       'KOTAK MAHINDRA BANK LTD', 'NAINITAL BANK LTD', 'RBL BANK LTD',\n",
       "       'SOUTH INDIAN BANK', 'TAMILNAD MERCANTILE BANK LTD',\n",
       "       'YES BANK LTD', 'DHANALAKSHMI BANK LTD', 'CITY UNION BANK',\n",
       "       'CATHOLIC SYRIAN BANK LTD', 'IDBI LTD', 'IDFC Bank Limited',\n",
       "       'JAMMU AND KASHMIR BANK', 'RATNAKAR BANK LIMITED', 'CSB BANK LTD',\n",
       "       'CSB BANK LIMITED', 'THE LAXMI VILAS BANK LTD', 'ALLAHABAD BANK',\n",
       "       'ANDHRA BANK', 'CORPORATION BANK', 'ORIENTAL BANK OF COMMERCE',\n",
       "       'SYNDICATE BANK', 'UNITED BANK OF INDIA', 'DENA BANK',\n",
       "       'VIJAYA BANK', 'DCB BANK LTD.', 'DEVELOPMENT CREDIT BANK',\n",
       "       'Bandhan Bank Ltd', 'BANDHAN BANK', 'DEVELOPMENT CREDIT BANK ',\n",
       "       'IDFC BANK LTD', 'STATE BANK OF BIKANER AND JAIPUR',\n",
       "       'STATE BANK OF HYDERABAD', 'STATE BANK OF MYSORE',\n",
       "       'STATE BANK OF PATIALA', 'STATE BANK OF TRAVANCORE'], dtype=object)"
      ]
     },
     "execution_count": 11,
     "metadata": {},
     "output_type": "execute_result"
    }
   ],
   "source": [
    "df[\"Bank Name\"].unique()"
   ]
  },
  {
   "cell_type": "markdown",
   "metadata": {},
   "source": [
    "# Figuring out different name of banks, altho they are one. They are such as follow:"
   ]
  },
  {
   "cell_type": "markdown",
   "metadata": {},
   "source": [
    "CSB BANK LTD = 'CSB BANK LTD' and 'CSB BANK LIMITED'\n",
    "\n",
    "CITY UNION BANK = 'CITY UNION BANK LTD.' and 'CITY UNION BANK'\n",
    "\n",
    "DHANALAKSHMI BANK = 'DHANALAXMI BANK LTD' and 'DHANALAKSHMI BANK LTD'\n",
    "\n",
    "CATHOLIC SYRIAN BANK = 'CATHOLIC SYRIAN BANK LTD' and 'CSB BANK LTD' (which might be referring to the same)\n",
    "\n",
    "IDBI BANK = 'IDBI BANK LTD' and 'IDBI LTD'\n",
    "\n",
    "IDFC BANK = 'IDFC FIRST BANK LTD' and 'IDFC BANK LTD' and 'IDFC Bank Limited'\n",
    "\n",
    "JAMMU AND KASHMIR BANK = 'JAMMU AND KASHMIR BANK LTD' and 'JAMMU AND KASHMIR BANK'\n",
    "\n",
    "RATNAKAR BANK = 'RBL BANK LTD' and 'RATNAKAR BANK LIMITED'\n",
    "\n",
    "DEVELOPMENT CREDIT BANK = 'DEVELOPMENT CREDIT BANK' and 'DEVELOPMENT CREDIT BANK ' (extra space at the end)\n",
    "\n",
    "BANDHAN BANK = 'BANDHAN BANK LTD' and 'BANDHAN BANK' and 'Bandhan Bank Ltd'\n",
    "\n",
    "DCB BANK = 'DCB BANK LTD' and 'DCB BANK LTD.'"
   ]
  },
  {
   "cell_type": "code",
   "execution_count": null,
   "metadata": {},
   "outputs": [],
   "source": []
  },
  {
   "cell_type": "code",
   "execution_count": null,
   "metadata": {},
   "outputs": [],
   "source": []
  },
  {
   "cell_type": "code",
   "execution_count": 42,
   "metadata": {},
   "outputs": [
    {
     "name": "stdout",
     "output_type": "stream",
     "text": [
      "         Date      Bank Name  Atm's on-site  Atm's off-site  \\\n",
      "17    Jan2025  CSB BANK LTD.          745.0            39.0   \n",
      "53    Dec2024  CSB BANK LTD.          737.0            40.0   \n",
      "90    Nov2024  CSB BANK LTD.          728.0            44.0   \n",
      "126   Oct2024  CSB BANK LTD.          726.0            44.0   \n",
      "162   Sep2024  CSB BANK LTD.          723.0            47.0   \n",
      "...       ...            ...            ...             ...   \n",
      "3512  May2017   CSB BANK LTD          202.0            60.0   \n",
      "3554  Apr2017   CSB BANK LTD          204.0            58.0   \n",
      "3600  Mar2017   CSB BANK LTD          205.0            58.0   \n",
      "3647  Feb2017   CSB BANK LTD          201.0            57.0   \n",
      "3694  Jan2017   CSB BANK LTD          198.0            57.0   \n",
      "\n",
      "      Credit card cash withdraw  Debit card cash withdraw  \n",
      "17                          0.0                2231814.00  \n",
      "53                          0.0                2246526.00  \n",
      "90                          0.0                2106095.00  \n",
      "126                         0.0                2296610.00  \n",
      "162                         0.0                2192156.00  \n",
      "...                         ...                       ...  \n",
      "3512                        0.0                   1394.90  \n",
      "3554                        0.0                   1302.75  \n",
      "3600                        0.0                   1384.90  \n",
      "3647                        0.0                   1278.30  \n",
      "3694                        0.0                    856.50  \n",
      "\n",
      "[97 rows x 6 columns]\n"
     ]
    }
   ],
   "source": [
    "# Filter rows where 'Bank Name' is either 'CSB BANK LTD' or 'CSB BANK LIMITED'\n",
    "csb_df = df[df[\"Bank Name\"].isin([\"CSB BANK LTD\", \"CSB BANK LIMITED\",\"CATHOLIC SYRIAN BANK LTD\",\"CSB BANK LTD.\"])]\n",
    "\n",
    "# Display the filtered DataFrame\n",
    "print(csb_df)\n"
   ]
  },
  {
   "cell_type": "code",
   "execution_count": 43,
   "metadata": {},
   "outputs": [],
   "source": [
    "# List of variations to replace\n",
    "city_union_variations = [\"CSB BANK LTD\", \"CSB BANK LIMITED\",\"CATHOLIC SYRIAN BANK LTD\",\"CSB BANK LTD.\"]\n",
    "\n",
    "# Replace all variations with \"CSB BANK LTD\"\n",
    "df[\"Bank Name\"] = df[\"Bank Name\"].replace(city_union_variations, \"CSB BANK LTD\")"
   ]
  },
  {
   "cell_type": "code",
   "execution_count": null,
   "metadata": {},
   "outputs": [],
   "source": []
  },
  {
   "cell_type": "code",
   "execution_count": null,
   "metadata": {},
   "outputs": [],
   "source": []
  },
  {
   "cell_type": "code",
   "execution_count": 15,
   "metadata": {},
   "outputs": [
    {
     "name": "stdout",
     "output_type": "stream",
     "text": [
      "         Date             Bank Name  Atm's on-site  Atm's off-site  \\\n",
      "16    Jan2025  CITY UNION BANK LTD.         1179.0           518.0   \n",
      "52    Dec2024  CITY UNION BANK LTD.         1170.0           523.0   \n",
      "89    Nov2024  CITY UNION BANK LTD.         1172.0           519.0   \n",
      "125   Oct2024  CITY UNION BANK LTD.         1166.0           520.0   \n",
      "161   Sep2024  CITY UNION BANK LTD.         1163.0           519.0   \n",
      "...       ...                   ...            ...             ...   \n",
      "3513  May2017       CITY UNION BANK          824.0           684.0   \n",
      "3555  Apr2017       CITY UNION BANK          815.0           686.0   \n",
      "3601  Mar2017       CITY UNION BANK          805.0           681.0   \n",
      "3648  Feb2017       CITY UNION BANK          756.0           675.0   \n",
      "3695  Jan2017       CITY UNION BANK          737.0           675.0   \n",
      "\n",
      "      Credit card cash withdraw  Debit card cash withdraw  \n",
      "16                      1237.00               13638792.00  \n",
      "52                      1419.00               13297319.00  \n",
      "89                      1361.00               12538655.00  \n",
      "125                     1675.00               14838934.00  \n",
      "161                     1472.00               13923557.00  \n",
      "...                         ...                       ...  \n",
      "3513                       0.20                   7650.10  \n",
      "3555                       0.21                   7103.75  \n",
      "3601                       0.20                   7478.40  \n",
      "3648                       0.20                   5653.40  \n",
      "3695                       0.20                   3331.80  \n",
      "\n",
      "[97 rows x 6 columns]\n"
     ]
    }
   ],
   "source": [
    "# Filter rows where 'Bank Name' is either 'CITY UNION BANK LTD.' or 'CITY UNION BANK'\n",
    "cub_df = df[df[\"Bank Name\"].isin([\"CITY UNION BANK LTD.\", \"CITY UNION BANK\"])]\n",
    "\n",
    "# Display the filtered DataFrame\n",
    "print(cub_df)"
   ]
  },
  {
   "cell_type": "code",
   "execution_count": 16,
   "metadata": {},
   "outputs": [],
   "source": [
    "# List of variations to replace\n",
    "city_union_variations = [\"CITY UNION BANK LTD.\", \"CITY UNION BANK\"]\n",
    "\n",
    "# Replace all variations with \"CITY UNION BANK\"\n",
    "df[\"Bank Name\"] = df[\"Bank Name\"].replace(city_union_variations, \"CITY UNION BANK\")\n"
   ]
  },
  {
   "cell_type": "code",
   "execution_count": null,
   "metadata": {},
   "outputs": [],
   "source": []
  },
  {
   "cell_type": "code",
   "execution_count": null,
   "metadata": {},
   "outputs": [],
   "source": []
  },
  {
   "cell_type": "code",
   "execution_count": null,
   "metadata": {},
   "outputs": [
    {
     "name": "stdout",
     "output_type": "stream",
     "text": [
      "         Date              Bank Name  Atm's on-site  Atm's off-site  \\\n",
      "19    Jan2025    DHANALAXMI BANK LTD          241.0            39.0   \n",
      "55    Dec2024    DHANALAXMI BANK LTD          241.0            39.0   \n",
      "92    Nov2024    DHANALAXMI BANK LTD          241.0            39.0   \n",
      "128   Oct2024  DHANALAKSHMI BANK LTD          241.0            39.0   \n",
      "164   Sep2024  DHANALAKSHMI BANK LTD          241.0            39.0   \n",
      "...       ...                    ...            ...             ...   \n",
      "3515  May2017  DHANALAKSHMI BANK LTD          200.0           171.0   \n",
      "3557  Apr2017  DHANALAKSHMI BANK LTD          200.0           171.0   \n",
      "3603  Mar2017  DHANALAKSHMI BANK LTD          199.0           172.0   \n",
      "3650  Feb2017  DHANALAKSHMI BANK LTD          199.0           174.0   \n",
      "3697  Jan2017  DHANALAKSHMI BANK LTD          198.0           175.0   \n",
      "\n",
      "      Credit card cash withdraw  Debit card cash withdraw  \n",
      "19                       998.00                1929435.00  \n",
      "55                      1030.00                1917014.00  \n",
      "92                      1013.00                1840756.00  \n",
      "128                      953.00                1949932.00  \n",
      "164                      814.00                1954449.00  \n",
      "...                         ...                       ...  \n",
      "3515                       0.30                   1680.40  \n",
      "3557                       0.31                   1600.25  \n",
      "3603                       0.30                   1705.80  \n",
      "3650                       0.30                   1480.90  \n",
      "3697                       0.10                   1365.90  \n",
      "\n",
      "[97 rows x 6 columns]\n"
     ]
    }
   ],
   "source": [
    "# Filter rows where 'Bank Name' is either 'DHANALAXMI BANK LTD' or 'CITY UNION BANK'\n",
    "dl_df = df[df[\"Bank Name\"].isin([\"DHANALAXMI BANK LTD\", \"DHANALAKSHMI BANK LTD\"])]\n",
    "\n",
    "# Display the filtered DataFrame\n",
    "print(dl_df)"
   ]
  },
  {
   "cell_type": "code",
   "execution_count": 19,
   "metadata": {},
   "outputs": [],
   "source": [
    "# List of variations to replace\n",
    "city_union_variations = [\"DHANALAKSHMI BANK LTD\", \"DHANALAXMI BANK LTD\"]\n",
    "\n",
    "# Replace all variations with \"DHANALAKSHMI BANK LTD\"\n",
    "df[\"Bank Name\"] = df[\"Bank Name\"].replace(city_union_variations, \"DHANALAKSHMI BANK LTD\")"
   ]
  },
  {
   "cell_type": "code",
   "execution_count": null,
   "metadata": {},
   "outputs": [],
   "source": []
  },
  {
   "cell_type": "code",
   "execution_count": null,
   "metadata": {},
   "outputs": [],
   "source": [
    "\"IDBI BANK LTD\", \"IDBI LTD\""
   ]
  },
  {
   "cell_type": "code",
   "execution_count": null,
   "metadata": {},
   "outputs": [
    {
     "name": "stdout",
     "output_type": "stream",
     "text": [
      "         Date      Bank Name  Atm's on-site  Atm's off-site  \\\n",
      "23    Jan2025  IDBI BANK LTD         2383.0           776.0   \n",
      "59    Dec2024  IDBI BANK LTD         2377.0           807.0   \n",
      "96    Nov2024  IDBI BANK LTD         2366.0           867.0   \n",
      "132   Oct2024  IDBI BANK LTD         2363.0           876.0   \n",
      "168   Sep2024  IDBI BANK LTD         2354.0           887.0   \n",
      "...       ...            ...            ...             ...   \n",
      "3508  May2017       IDBI LTD         2150.0          1648.0   \n",
      "3550  Apr2017       IDBI LTD         1823.0          1714.0   \n",
      "3591  Mar2017       IDBI LTD         1822.0          1715.0   \n",
      "3638  Feb2017       IDBI LTD         1786.0          1706.0   \n",
      "3685  Jan2017       IDBI LTD         1782.0          1687.0   \n",
      "\n",
      "      Credit card cash withdraw  Debit card cash withdraw  \n",
      "23                       3356.0                26523127.0  \n",
      "59                       3132.0                26263758.0  \n",
      "96                       3382.0                24648840.0  \n",
      "132                      3451.0                30814525.0  \n",
      "168                      3464.0                26001170.0  \n",
      "...                         ...                       ...  \n",
      "3508                        4.0                   35621.4  \n",
      "3550                        3.7                   36050.7  \n",
      "3591                        3.2                   41492.4  \n",
      "3638                        2.2                   27816.4  \n",
      "3685                        6.1                   24158.4  \n",
      "\n",
      "[97 rows x 6 columns]\n"
     ]
    }
   ],
   "source": [
    "# Filter rows where 'Bank Name' is either \"IDBI BANK LTD\" or \"IDBI LTD\"\n",
    "idbi_df = df[df[\"Bank Name\"].isin([\"IDBI BANK LTD\", \"IDBI LTD\"])]\n",
    "\n",
    "# Display the filtered DataFrame\n",
    "print(idbi_df)"
   ]
  },
  {
   "cell_type": "code",
   "execution_count": 22,
   "metadata": {},
   "outputs": [],
   "source": [
    "# List of variations to replace\n",
    "city_union_variations = [\"IDBI BANK LTD\", \"IDBI LTD\"]\n",
    "\n",
    "# Replace all variations with \"IDBI BANK LTD\"\n",
    "df[\"Bank Name\"] = df[\"Bank Name\"].replace(city_union_variations, \"IDBI BANK LTD\")"
   ]
  },
  {
   "cell_type": "code",
   "execution_count": null,
   "metadata": {},
   "outputs": [],
   "source": []
  },
  {
   "cell_type": "code",
   "execution_count": null,
   "metadata": {},
   "outputs": [],
   "source": []
  },
  {
   "cell_type": "code",
   "execution_count": 24,
   "metadata": {},
   "outputs": [
    {
     "name": "stdout",
     "output_type": "stream",
     "text": [
      "         Date            Bank Name  Atm's on-site  Atm's off-site  \\\n",
      "24    Jan2025  IDFC FIRST BANK LTD          906.0           311.0   \n",
      "60    Dec2024  IDFC FIRST BANK LTD          913.0           295.0   \n",
      "97    Nov2024  IDFC FIRST BANK LTD          910.0           294.0   \n",
      "133   Oct2024  IDFC FIRST BANK LTD          905.0           331.0   \n",
      "169   Sep2024  IDFC FIRST BANK LTD          902.0           331.0   \n",
      "...       ...                  ...            ...             ...   \n",
      "3519  May2017        IDFC BANK LTD           20.0             1.0   \n",
      "3561  Apr2017        IDFC BANK LTD           20.0             1.0   \n",
      "3607  Mar2017        IDFC BANK LTD           20.0             1.0   \n",
      "3654  Feb2017        IDFC BANK LTD           20.0             1.0   \n",
      "3701  Jan2017        IDFC BANK LTD           20.0             1.0   \n",
      "\n",
      "      Credit card cash withdraw  Debit card cash withdraw  \n",
      "24                     122670.0                19277859.0  \n",
      "60                     128393.0                19173071.0  \n",
      "97                     121685.0                18439936.0  \n",
      "133                    134854.0                22076134.0  \n",
      "169                    125617.0                18964138.0  \n",
      "...                         ...                       ...  \n",
      "3519                        0.0                    1273.3  \n",
      "3561                        0.0                    1134.2  \n",
      "3607                        0.0                     983.0  \n",
      "3654                        0.0                     680.6  \n",
      "3701                        0.0                     351.9  \n",
      "\n",
      "[97 rows x 6 columns]\n"
     ]
    }
   ],
   "source": [
    "# Filter rows where 'Bank Name' is either \"IDFC FIRST BANK LTD\" or  \"IDFC BANK LTD\" or \"IDFC Bank Limited\"\n",
    "idfc_df = df[df[\"Bank Name\"].isin([\"IDFC FIRST BANK LTD\", \"IDFC BANK LTD\", \"IDFC Bank Limited\"])]\n",
    "\n",
    "# Display the filtered DataFrame\n",
    "print(idfc_df)"
   ]
  },
  {
   "cell_type": "markdown",
   "metadata": {},
   "source": [
    "IDFC FIRST Bank, in its Board meeting, announced the completion of merger of IDFC Limited with IDFC FIRST Bank. technically it shdnt be merged!"
   ]
  },
  {
   "cell_type": "markdown",
   "metadata": {},
   "source": []
  },
  {
   "cell_type": "code",
   "execution_count": null,
   "metadata": {},
   "outputs": [],
   "source": []
  },
  {
   "cell_type": "code",
   "execution_count": 25,
   "metadata": {},
   "outputs": [
    {
     "name": "stdout",
     "output_type": "stream",
     "text": [
      "         Date                   Bank Name  Atm's on-site  Atm's off-site  \\\n",
      "26    Jan2025  JAMMU AND KASHMIR BANK LTD          944.0           634.0   \n",
      "62    Dec2024  JAMMU AND KASHMIR BANK LTD          944.0           633.0   \n",
      "99    Nov2024  JAMMU AND KASHMIR BANK LTD          947.0           632.0   \n",
      "135   Oct2024  JAMMU AND KASHMIR BANK LTD          945.0           632.0   \n",
      "171   Sep2024  JAMMU AND KASHMIR BANK LTD          948.0           631.0   \n",
      "...       ...                         ...            ...             ...   \n",
      "3521  May2017      JAMMU AND KASHMIR BANK          651.0           464.0   \n",
      "3563  Apr2017      JAMMU AND KASHMIR BANK          646.0           456.0   \n",
      "3609  Mar2017      JAMMU AND KASHMIR BANK          640.0           456.0   \n",
      "3656  Feb2017      JAMMU AND KASHMIR BANK          643.0           449.0   \n",
      "3703  Jan2017      JAMMU AND KASHMIR BANK          640.0           449.0   \n",
      "\n",
      "      Credit card cash withdraw  Debit card cash withdraw  \n",
      "26                      51449.0               26191822.00  \n",
      "62                      41588.0               27926297.00  \n",
      "99                      41364.0               29720584.00  \n",
      "135                     44356.0               33557414.00  \n",
      "171                     39697.0               28165019.00  \n",
      "...                         ...                       ...  \n",
      "3521                       22.7                  21827.40  \n",
      "3563                       22.0                  20888.89  \n",
      "3609                       22.4                  20187.70  \n",
      "3656                       16.8                  16216.40  \n",
      "3703                       13.2                  11141.40  \n",
      "\n",
      "[97 rows x 6 columns]\n"
     ]
    }
   ],
   "source": [
    "# Filter rows where 'Bank Name' is either \"JAMMU AND KASHMIR BANK LTD\" or \"JAMMU AND KASHMIR BANK\"\n",
    "jk_df = df[df[\"Bank Name\"].isin([\"JAMMU AND KASHMIR BANK LTD\", \"JAMMU AND KASHMIR BANK\"])]\n",
    "\n",
    "# Display the filtered DataFrame\n",
    "print(jk_df)"
   ]
  },
  {
   "cell_type": "code",
   "execution_count": 26,
   "metadata": {},
   "outputs": [],
   "source": [
    "# List of variations to replace\n",
    "city_union_variations = [\"JAMMU AND KASHMIR BANK LTD\", \"JAMMU AND KASHMIR BANK\"]\n",
    "\n",
    "# Replace all variations with \"JAMMU AND KASHMIR BANK LTD\"\n",
    "df[\"Bank Name\"] = df[\"Bank Name\"].replace(city_union_variations, \"JAMMU AND KASHMIR BANK LTD\")"
   ]
  },
  {
   "cell_type": "code",
   "execution_count": null,
   "metadata": {},
   "outputs": [],
   "source": []
  },
  {
   "cell_type": "code",
   "execution_count": null,
   "metadata": {},
   "outputs": [],
   "source": []
  },
  {
   "cell_type": "code",
   "execution_count": 30,
   "metadata": {},
   "outputs": [
    {
     "name": "stdout",
     "output_type": "stream",
     "text": [
      "         Date         Bank Name  Atm's on-site  Atm's off-site  \\\n",
      "15    Jan2025  BANDHAN BANK LTD          433.0             5.0   \n",
      "51    Dec2024  BANDHAN BANK LTD          433.0             5.0   \n",
      "88    Nov2024  BANDHAN BANK LTD          433.0             5.0   \n",
      "124   Oct2024  BANDHAN BANK LTD          433.0             5.0   \n",
      "160   Sep2024  BANDHAN BANK LTD          433.0             5.0   \n",
      "...       ...               ...            ...             ...   \n",
      "3511  May2017      BANDHAN BANK          372.0             0.0   \n",
      "3553  Apr2017      BANDHAN BANK          297.0             0.0   \n",
      "3599  Mar2017      BANDHAN BANK          282.0             0.0   \n",
      "3646  Feb2017      BANDHAN BANK          281.0             0.0   \n",
      "3693  Jan2017      BANDHAN BANK          277.0             0.0   \n",
      "\n",
      "      Credit card cash withdraw  Debit card cash withdraw  \n",
      "15                          0.0                12527291.0  \n",
      "51                          0.0                13046399.0  \n",
      "88                          0.0                12690347.0  \n",
      "124                         0.0                15030506.0  \n",
      "160                         0.0                14217969.0  \n",
      "...                         ...                       ...  \n",
      "3511                        0.0                    7488.1  \n",
      "3553                        0.0                   10232.4  \n",
      "3599                        0.0                   16819.4  \n",
      "3646                        0.0                   13516.5  \n",
      "3693                        0.0                    9271.3  \n",
      "\n",
      "[97 rows x 6 columns]\n"
     ]
    }
   ],
   "source": [
    "# Filter rows where 'Bank Name' is either \"BANDHAN BANK LTD\" or \"BANDHAN BANK\" or \"Bandhan Bank Ltd\"\n",
    "bb_df = df[df[\"Bank Name\"].isin([\"BANDHAN BANK LTD\", \"BANDHAN BANK\", \"Bandhan Bank Ltd\"])]\n",
    "\n",
    "# Display the filtered DataFrame\n",
    "print(bb_df)"
   ]
  },
  {
   "cell_type": "code",
   "execution_count": 31,
   "metadata": {},
   "outputs": [],
   "source": [
    "# List of variations to replace\n",
    "city_union_variations = [\"BANDHAN BANK LTD\", \"BANDHAN BANK\", \"Bandhan Bank Ltd\"]\n",
    "\n",
    "# Replace all variations with \"BANDHAN BANK LTD\"\n",
    "df[\"Bank Name\"] = df[\"Bank Name\"].replace(city_union_variations, \"BANDHAN BANK LTD\")"
   ]
  },
  {
   "cell_type": "code",
   "execution_count": null,
   "metadata": {},
   "outputs": [],
   "source": []
  },
  {
   "cell_type": "code",
   "execution_count": null,
   "metadata": {},
   "outputs": [],
   "source": []
  },
  {
   "cell_type": "code",
   "execution_count": 35,
   "metadata": {},
   "outputs": [
    {
     "name": "stdout",
     "output_type": "stream",
     "text": [
      "         Date                Bank Name  Atm's on-site  Atm's off-site  \\\n",
      "18    Jan2025             DCB BANK LTD          425.0             5.0   \n",
      "54    Dec2024             DCB BANK LTD          425.0             5.0   \n",
      "91    Nov2024             DCB BANK LTD          425.0             5.0   \n",
      "127   Oct2024             DCB BANK LTD          425.0             5.0   \n",
      "163   Sep2024             DCB BANK LTD          423.0             5.0   \n",
      "...       ...                      ...            ...             ...   \n",
      "3514  May2017  DEVELOPMENT CREDIT BANK          228.0           267.0   \n",
      "3556  Apr2017  DEVELOPMENT CREDIT BANK          221.0           298.0   \n",
      "3602  Mar2017  DEVELOPMENT CREDIT BANK          217.0           298.0   \n",
      "3649  Feb2017  DEVELOPMENT CREDIT BANK          216.0           298.0   \n",
      "3696  Jan2017  DEVELOPMENT CREDIT BANK          210.0           292.0   \n",
      "\n",
      "      Credit card cash withdraw  Debit card cash withdraw  \n",
      "18                         2.00                1558676.00  \n",
      "54                         2.00                1637803.00  \n",
      "91                         0.00                1570401.00  \n",
      "127                        5.00                1777316.00  \n",
      "163                        0.00                1508997.00  \n",
      "...                         ...                       ...  \n",
      "3514                       5.00                   1675.30  \n",
      "3556                       4.31                   1603.51  \n",
      "3602                       4.10                   1653.90  \n",
      "3649                       3.20                   1335.50  \n",
      "3696                       2.10                    853.20  \n",
      "\n",
      "[97 rows x 6 columns]\n"
     ]
    }
   ],
   "source": [
    "# Filter rows where 'Bank Name' is either \"DCB BANK LTD\", \"DCB BANK LTD.\",\"DEVELOPMENT CREDIT BANK\", \"DEVELOPMENT CREDIT BANK \"\n",
    "dc_df = df[df[\"Bank Name\"].isin([\"DCB BANK LTD\", \"DCB BANK LTD.\",\"DEVELOPMENT CREDIT BANK\", \"DEVELOPMENT CREDIT BANK \"])]\n",
    "\n",
    "# Display the filtered DataFrame\n",
    "print(dc_df)"
   ]
  },
  {
   "cell_type": "code",
   "execution_count": 36,
   "metadata": {},
   "outputs": [],
   "source": [
    "# List of variations to replace\n",
    "city_union_variations = [\"DCB BANK LTD\", \"DCB BANK LTD.\",\"DEVELOPMENT CREDIT BANK\", \"DEVELOPMENT CREDIT BANK \"]\n",
    "\n",
    "# Replace all variations with \"DCB BANK LTD\"\n",
    "df[\"Bank Name\"] = df[\"Bank Name\"].replace(city_union_variations, \"DCB BANK LTD\")"
   ]
  },
  {
   "cell_type": "code",
   "execution_count": null,
   "metadata": {},
   "outputs": [],
   "source": []
  },
  {
   "cell_type": "code",
   "execution_count": null,
   "metadata": {},
   "outputs": [],
   "source": []
  },
  {
   "cell_type": "code",
   "execution_count": 38,
   "metadata": {},
   "outputs": [
    {
     "name": "stdout",
     "output_type": "stream",
     "text": [
      "         Date              Bank Name  Atm's on-site  Atm's off-site  \\\n",
      "31    Jan2025           RBL BANK LTD          377.0            35.0   \n",
      "67    Dec2024           RBL BANK LTD          376.0            35.0   \n",
      "104   Nov2024           RBL BANK LTD          373.0            35.0   \n",
      "140   Oct2024           RBL BANK LTD          371.0            35.0   \n",
      "176   Sep2024           RBL BANK LTD          370.0            36.0   \n",
      "...       ...                    ...            ...             ...   \n",
      "3525  May2017  RATNAKAR BANK LIMITED          163.0           224.0   \n",
      "3567  Apr2017  RATNAKAR BANK LIMITED          158.0           224.0   \n",
      "3613  Mar2017  RATNAKAR BANK LIMITED          150.0           225.0   \n",
      "3660  Feb2017  RATNAKAR BANK LIMITED          149.0           225.0   \n",
      "3707  Jan2017  RATNAKAR BANK LIMITED          149.0           225.0   \n",
      "\n",
      "      Credit card cash withdraw  Debit card cash withdraw  \n",
      "31                    146919.00                2899033.00  \n",
      "67                    156871.00                2789844.00  \n",
      "104                   152701.00                2669443.00  \n",
      "140                   160162.00                3240317.00  \n",
      "176                   157745.00                2778244.00  \n",
      "...                         ...                       ...  \n",
      "3525                      82.00                   1443.10  \n",
      "3567                      69.06                   1467.92  \n",
      "3613                      49.50                   1472.10  \n",
      "3660                      29.20                   1142.50  \n",
      "3707                      17.80                    744.60  \n",
      "\n",
      "[97 rows x 6 columns]\n"
     ]
    }
   ],
   "source": [
    "# Filter rows where 'Bank Name' is either \"RBL BANK LTD\", \"RATNAKAR BANK LIMITED\"\n",
    "rbl_df = df[df[\"Bank Name\"].isin([\"RBL BANK LTD\", \"RATNAKAR BANK LIMITED\"])]\n",
    "\n",
    "# Display the filtered DataFrame\n",
    "print(rbl_df)"
   ]
  },
  {
   "cell_type": "code",
   "execution_count": 39,
   "metadata": {},
   "outputs": [],
   "source": [
    "# List of variations to replace\n",
    "city_union_variations = [\"RBL BANK LTD\", \"RATNAKAR BANK LIMITED\"]\n",
    "\n",
    "# Replace all variations with \"RBL BANK LTD\"\n",
    "df[\"Bank Name\"] = df[\"Bank Name\"].replace(city_union_variations, \"RBL BANK LTD\")"
   ]
  },
  {
   "cell_type": "code",
   "execution_count": null,
   "metadata": {},
   "outputs": [],
   "source": []
  },
  {
   "cell_type": "code",
   "execution_count": null,
   "metadata": {},
   "outputs": [],
   "source": []
  },
  {
   "cell_type": "code",
   "execution_count": 44,
   "metadata": {},
   "outputs": [
    {
     "data": {
      "text/plain": [
       "array(['BANK OF BARODA', 'BANK OF INDIA', 'BANK OF MAHARASHTRA',\n",
       "       'CANARA BANK', 'CENTRAL BANK OF INDIA', 'INDIAN BANK',\n",
       "       'INDIAN OVERSEAS BANK', 'PUNJAB AND SIND BANK',\n",
       "       'PUNJAB NATIONAL BANK', 'STATE BANK OF INDIA', 'UCO BANK',\n",
       "       'UNION BANK OF INDIA', 'AXIS BANK LTD', 'BANDHAN BANK LTD',\n",
       "       'CITY UNION BANK', 'CSB BANK LTD', 'DCB BANK LTD',\n",
       "       'DHANALAKSHMI BANK LTD', 'FEDERAL BANK LTD', 'HDFC BANK LTD',\n",
       "       'ICICI BANK LTD', 'IDBI BANK LTD', 'IDFC FIRST BANK LTD',\n",
       "       'INDUSIND BANK LTD', 'JAMMU AND KASHMIR BANK LTD',\n",
       "       'KARNATAKA BANK LTD', 'KARUR VYSYA BANK LTD',\n",
       "       'KOTAK MAHINDRA BANK LTD', 'NAINITAL BANK LTD', 'RBL BANK LTD',\n",
       "       'SOUTH INDIAN BANK', 'TAMILNAD MERCANTILE BANK LTD',\n",
       "       'YES BANK LTD', 'IDFC Bank Limited', 'THE LAXMI VILAS BANK LTD',\n",
       "       'ALLAHABAD BANK', 'ANDHRA BANK', 'CORPORATION BANK',\n",
       "       'ORIENTAL BANK OF COMMERCE', 'SYNDICATE BANK',\n",
       "       'UNITED BANK OF INDIA', 'DENA BANK', 'VIJAYA BANK',\n",
       "       'IDFC BANK LTD', 'STATE BANK OF BIKANER AND JAIPUR',\n",
       "       'STATE BANK OF HYDERABAD', 'STATE BANK OF MYSORE',\n",
       "       'STATE BANK OF PATIALA', 'STATE BANK OF TRAVANCORE'], dtype=object)"
      ]
     },
     "execution_count": 44,
     "metadata": {},
     "output_type": "execute_result"
    }
   ],
   "source": [
    "df[\"Bank Name\"].unique()"
   ]
  },
  {
   "cell_type": "code",
   "execution_count": 45,
   "metadata": {},
   "outputs": [],
   "source": [
    "df.to_csv(\"/Users/meetsudra/Documents/GitHub/ATM Cash Forecasting/RBIDATA.csv\",index=False)"
   ]
  },
  {
   "cell_type": "code",
   "execution_count": null,
   "metadata": {},
   "outputs": [],
   "source": []
  }
 ],
 "metadata": {
  "kernelspec": {
   "display_name": "Python 3",
   "language": "python",
   "name": "python3"
  },
  "language_info": {
   "codemirror_mode": {
    "name": "ipython",
    "version": 3
   },
   "file_extension": ".py",
   "mimetype": "text/x-python",
   "name": "python",
   "nbconvert_exporter": "python",
   "pygments_lexer": "ipython3",
   "version": "3.12.3"
  }
 },
 "nbformat": 4,
 "nbformat_minor": 2
}
